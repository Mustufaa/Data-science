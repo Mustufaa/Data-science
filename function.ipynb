{
 "cells": [
  {
   "cell_type": "code",
   "execution_count": 1,
   "metadata": {},
   "outputs": [],
   "source": [
    "def acronym(name):\n",
    "    resukt=''\n",
    "    for word in name.split():\n",
    "        resukt+=word[0]\n",
    "    return resukt"
   ]
  },
  {
   "cell_type": "code",
   "execution_count": 2,
   "metadata": {},
   "outputs": [
    {
     "data": {
      "text/plain": [
       "'MM'"
      ]
     },
     "execution_count": 2,
     "metadata": {},
     "output_type": "execute_result"
    }
   ],
   "source": [
    "acronym('Mohd Mustufa')"
   ]
  },
  {
   "cell_type": "code",
   "execution_count": 3,
   "metadata": {},
   "outputs": [
    {
     "name": "stdout",
     "output_type": "stream",
     "text": [
      "['Sam Altman', 'Guido Von Rossum', 'Tim Bell']\n",
      "['SA', 'GVR', 'TB']\n"
     ]
    }
   ],
   "source": [
    "names=['Sam Altman','Guido Von Rossum','Tim Bell']\n",
    "acr= [acronym(name) for name in names]\n",
    "print(names)\n",
    "print(acr)"
   ]
  },
  {
   "cell_type": "markdown",
   "metadata": {},
   "source": [
    "- default parameters\n",
    "- variable argument\n",
    "- lambda expression"
   ]
  },
  {
   "cell_type": "code",
   "execution_count": 5,
   "metadata": {},
   "outputs": [
    {
     "name": "stdout",
     "output_type": "stream",
     "text": [
      "5\n",
      "9765625\n",
      "125\n"
     ]
    }
   ],
   "source": [
    "def power(number, exp=1):\n",
    "    return number ** exp\n",
    "\n",
    "print(power(5)) \n",
    "print(power(5,10)) \n",
    "print(power(5,3)) \n",
    " \n"
   ]
  },
  {
   "cell_type": "code",
   "execution_count": 9,
   "metadata": {},
   "outputs": [
    {
     "name": "stdout",
     "output_type": "stream",
     "text": [
      "0\n",
      "120\n",
      "14\n",
      "5\n",
      "8\n",
      "28\n"
     ]
    }
   ],
   "source": [
    "def summer(a=0,b=0,c=0,d=0):\n",
    "    return a+b+c+d \n",
    "print(summer())\n",
    "print(summer(120))\n",
    "print(summer(2,3,4,5))\n",
    "print(summer(2,3))\n",
    "print(summer(a=2,c=6))\n",
    "print(summer(a=2,c=6,d=20))"
   ]
  },
  {
   "cell_type": "code",
   "execution_count": 10,
   "metadata": {},
   "outputs": [
    {
     "data": {
      "text/plain": [
       "10"
      ]
     },
     "execution_count": 10,
     "metadata": {},
     "output_type": "execute_result"
    }
   ],
   "source": [
    "sum([1,2,3,4])"
   ]
  },
  {
   "cell_type": "code",
   "execution_count": 11,
   "metadata": {},
   "outputs": [
    {
     "name": "stdout",
     "output_type": "stream",
     "text": [
      "50\n",
      "12.5\n",
      "11\n",
      "4\n"
     ]
    }
   ],
   "source": [
    "def stats(*numbers, action='sum'):\n",
    "    if action=='sum':\n",
    "        return sum(numbers)\n",
    "    if action=='mean':\n",
    "        return sum(numbers)/len(numbers)\n",
    "    if action=='count':\n",
    "        return len(numbers)\n",
    "    if action=='min':\n",
    "        return min(numbers)\n",
    " \n",
    "print(stats(11,12,13,14))\n",
    "print(stats(11,12,13,14, action='mean'))\n",
    "print(stats(11,12,13,14, action='min'))\n",
    "print(stats(11,12,13,14, action='count'))"
   ]
  },
  {
   "cell_type": "code",
   "execution_count": 12,
   "metadata": {},
   "outputs": [],
   "source": [
    "def greeting():\n",
    "    print('hello')\n",
    "    print('world')"
   ]
  },
  {
   "cell_type": "code",
   "execution_count": 17,
   "metadata": {},
   "outputs": [
    {
     "name": "stdout",
     "output_type": "stream",
     "text": [
      "hello\n",
      "world\n",
      "None\n",
      "hello\n",
      "world\n",
      "None\n"
     ]
    }
   ],
   "source": [
    "#any function is not returing anything is returning None\n",
    "print(greeting())\n",
    "a=greeting()\n",
    "print(a)"
   ]
  },
  {
   "cell_type": "code",
   "execution_count": 18,
   "metadata": {},
   "outputs": [
    {
     "name": "stdout",
     "output_type": "stream",
     "text": [
      "[1, 4, 9, 16, 25]\n",
      "[1, 8, 27, 64, 125]\n"
     ]
    }
   ],
   "source": [
    "# higher order function\n",
    "def apply(func,data):\n",
    "    return[func(x) for  x in data]\n",
    "\n",
    "def square(x):\n",
    "    return x**2\n",
    "\n",
    "def cube(x):\n",
    "    return x**3\n",
    "\n",
    "# implement a function that take a list of number and a  function\n",
    "ans= apply(square,[1,2,3,4,5])\n",
    "print(ans)\n",
    "ans= apply(cube,[1,2,3,4,5])\n",
    "print(ans)"
   ]
  },
  {
   "cell_type": "markdown",
   "metadata": {},
   "source": [
    "lambda expression\n",
    " \n",
    "`f(x) = x**2 + 10`\n",
    "`g(x,y)=x*2 + y*2 +10`"
   ]
  },
  {
   "cell_type": "code",
   "execution_count": 19,
   "metadata": {},
   "outputs": [
    {
     "name": "stdout",
     "output_type": "stream",
     "text": [
      "<function <lambda> at 0x000001FA12757A60>\n",
      "14\n",
      "35\n",
      "110\n"
     ]
    }
   ],
   "source": [
    "f= lambda x:x**2+10\n",
    "print(f)\n",
    "print(f(2))\n",
    "print(f(5))\n",
    "print(f(10))"
   ]
  },
  {
   "cell_type": "code",
   "execution_count": 20,
   "metadata": {},
   "outputs": [
    {
     "name": "stdout",
     "output_type": "stream",
     "text": [
      "20\n",
      "22\n",
      "82\n"
     ]
    }
   ],
   "source": [
    "g= lambda x,y:x*2 + y*2 +10\n",
    "print(g(2,3))\n",
    "print(g(3,3))\n",
    "print(g(13,23))\n"
   ]
  },
  {
   "cell_type": "markdown",
   "metadata": {},
   "source": [
    "- map and filter using lambda"
   ]
  },
  {
   "cell_type": "code",
   "execution_count": 5,
   "metadata": {},
   "outputs": [
    {
     "name": "stdout",
     "output_type": "stream",
     "text": [
      "[1, 8, 27, 64, 125]\n",
      "[1, 8, 27, 64, 125]\n",
      "[1, 8, 27, 64, 125]\n"
     ]
    }
   ],
   "source": [
    "x=[1,2,3,4,5] #style 1 (loop)\n",
    "x3=[]\n",
    "for i in x:\n",
    "    x3.append(i**3)\n",
    "print(x3)\n",
    "\n",
    "x3=[i**3 for i in x] #style 2 (compprehsion)\n",
    "print(x3)\n",
    "\n",
    "x3=list(map(lambda i: i**3,x)) #style 3 (map with lambda)\n",
    "print(x3)"
   ]
  },
  {
   "cell_type": "code",
   "execution_count": 6,
   "metadata": {},
   "outputs": [
    {
     "name": "stdout",
     "output_type": "stream",
     "text": [
      "[1, 2, 3, 4, 5]\n"
     ]
    }
   ],
   "source": [
    "x=[1,2,'a','b',3,4,5,'6']\n",
    "nums= filter(lambda i:isinstance(i,int),x)\n",
    "nums=list(nums)\n",
    "print(nums)"
   ]
  },
  {
   "cell_type": "code",
   "execution_count": null,
   "metadata": {},
   "outputs": [],
   "source": []
  }
 ],
 "metadata": {
  "kernelspec": {
   "display_name": "base",
   "language": "python",
   "name": "python3"
  },
  "language_info": {
   "codemirror_mode": {
    "name": "ipython",
    "version": 3
   },
   "file_extension": ".py",
   "mimetype": "text/x-python",
   "name": "python",
   "nbconvert_exporter": "python",
   "pygments_lexer": "ipython3",
   "version": "3.12.3"
  }
 },
 "nbformat": 4,
 "nbformat_minor": 2
}
