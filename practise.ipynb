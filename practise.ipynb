{
 "cells": [
  {
   "cell_type": "code",
   "execution_count": 1,
   "metadata": {},
   "outputs": [
    {
     "name": "stdout",
     "output_type": "stream",
     "text": [
      "2 * 1 = 2\n",
      "2 * 2 = 22\n",
      "2 * 3 = 222\n",
      "2 * 4 = 2222\n",
      "2 * 5 = 22222\n",
      "2 * 6 = 222222\n",
      "2 * 7 = 2222222\n",
      "2 * 8 = 22222222\n",
      "2 * 9 = 222222222\n",
      "2 * 10 = 2222222222\n"
     ]
    }
   ],
   "source": [
    "#wap to print the multiplation table of  given number using while loop\n",
    "num = input('enter the number for table')\n",
    "count=1\n",
    "\n",
    "while count <= 10:\n",
    "    result= num * count\n",
    "    print(f'{num} * {count} = {result}' )\n",
    "    count +=1\n",
    "   "
   ]
  },
  {
   "cell_type": "code",
   "execution_count": 2,
   "metadata": {},
   "outputs": [
    {
     "name": "stdout",
     "output_type": "stream",
     "text": [
      "sum of all even number\n",
      "0\n",
      "2\n",
      "6\n",
      "12\n",
      "20\n",
      "30\n",
      "42\n",
      "56\n",
      "72\n",
      "90\n",
      "110\n",
      "132\n",
      "156\n",
      "182\n",
      "210\n",
      "240\n",
      "272\n",
      "306\n",
      "342\n",
      "380\n",
      "420\n",
      "462\n",
      "506\n",
      "552\n",
      "600\n",
      "650\n",
      "702\n",
      "756\n",
      "812\n",
      "870\n",
      "930\n",
      "992\n",
      "1056\n",
      "1122\n",
      "1190\n",
      "1260\n",
      "1332\n",
      "1406\n",
      "1482\n",
      "1560\n",
      "1640\n",
      "1722\n",
      "1806\n",
      "1892\n",
      "1980\n",
      "2070\n",
      "2162\n",
      "2256\n",
      "2352\n",
      "2450\n"
     ]
    }
   ],
   "source": [
    "#wap to find sum of all even number between 1 and 100 using a for loop\n",
    "s=0\n",
    "print(\"sum of all even number\")\n",
    "for i in range(0,100):\n",
    "    if i % 2 == 0:\n",
    "        s = s + i\n",
    "        print(s)"
   ]
  },
  {
   "cell_type": "code",
   "execution_count": 3,
   "metadata": {},
   "outputs": [
    {
     "name": "stdout",
     "output_type": "stream",
     "text": [
      " afutsum\n"
     ]
    }
   ],
   "source": [
    "#wap to reverse a given strng using a while loop\n",
    "s = input(\"enter the string\")\n",
    "count=len(s)\n",
    "revs=\" \"\n",
    "while count>0:\n",
    "    revs+=s[count-1]\n",
    "    count-=1\n",
    "\n",
    "print(revs)"
   ]
  },
  {
   "cell_type": "code",
   "execution_count": 13,
   "metadata": {},
   "outputs": [
    {
     "name": "stdout",
     "output_type": "stream",
     "text": [
      "A\n",
      "B\n",
      "C\n",
      "D\n",
      "E\n",
      "F\n",
      "G\n",
      "H\n",
      "I\n",
      "J\n",
      "K\n",
      "L\n",
      "M\n",
      "N\n",
      "O\n",
      "P\n",
      "Q\n",
      "R\n",
      "S\n",
      "T\n",
      "U\n",
      "V\n",
      "W\n",
      "X\n",
      "Y\n",
      "Z\n"
     ]
    }
   ],
   "source": [
    " #wap to print the ASCII value of all uppercase letter using a for loop\n",
    " \n",
    " for i in range(65,91):\n",
    "    print(chr(i))"
   ]
  },
  {
   "cell_type": "code",
   "execution_count": 7,
   "metadata": {},
   "outputs": [
    {
     "name": "stdout",
     "output_type": "stream",
     "text": [
      "0\n",
      "1\n",
      "1\n",
      "2\n",
      "3\n",
      "5\n",
      "8\n",
      "13\n",
      "21\n",
      "34\n",
      "55\n",
      "89\n"
     ]
    }
   ],
   "source": [
    "#wap to print the fibonacci series up to the given limit using a for loop\n",
    "a=0 \n",
    "b=1 \n",
    "print(a)\n",
    "print(b)\n",
    "for i in range(0,10):\n",
    "    c=a+b\n",
    "    a=b\n",
    "    b=c\n",
    "    print(c)"
   ]
  },
  {
   "cell_type": "markdown",
   "metadata": {},
   "source": []
  }
 ],
 "metadata": {
  "kernelspec": {
   "display_name": "base",
   "language": "python",
   "name": "python3"
  },
  "language_info": {
   "codemirror_mode": {
    "name": "ipython",
    "version": 3
   },
   "file_extension": ".py",
   "mimetype": "text/x-python",
   "name": "python",
   "nbconvert_exporter": "python",
   "pygments_lexer": "ipython3",
   "version": "3.12.3"
  }
 },
 "nbformat": 4,
 "nbformat_minor": 2
}
