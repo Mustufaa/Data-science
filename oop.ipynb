{
 "cells": [
  {
   "cell_type": "code",
   "execution_count": 1,
   "metadata": {},
   "outputs": [
    {
     "name": "stdout",
     "output_type": "stream",
     "text": [
      "12 <class 'int'>\n"
     ]
    }
   ],
   "source": [
    "x=12\n",
    "print(x,type(x))"
   ]
  },
  {
   "cell_type": "markdown",
   "metadata": {},
   "source": [
    "OOP\n",
    "- class ✔\n",
    "- object ✔ \n",
    "- inheritance ✔\n",
    "- polymorphic ❌\n",
    "- encapsulation ❌\n",
    "- abstraction ❌"
   ]
  },
  {
   "cell_type": "code",
   "execution_count": 2,
   "metadata": {},
   "outputs": [
    {
     "name": "stdout",
     "output_type": "stream",
     "text": [
      "<class 'str'>\n"
     ]
    }
   ],
   "source": [
    "name='John'\n",
    "print(type(name))"
   ]
  },
  {
   "cell_type": "markdown",
   "metadata": {},
   "source": [
    "class- blueprint for creating objects\n",
    "- properties/atributes/fields\n",
    "- methods/function\n",
    "- constructors(special methods)\n",
    "syntax\n",
    "'''\n",
    "class ClassName:\n",
    "    properties 1:\n",
    "    properties 2:\n",
    "    properties 3:\n",
    "\n",
    "\n",
    "\n",
    "\n",
    "\n",
    "\n",
    "\n"
   ]
  },
  {
   "cell_type": "code",
   "execution_count": 3,
   "metadata": {},
   "outputs": [],
   "source": [
    "class Book:\n",
    "    title=\"\"\n",
    "    author=\"\"\n"
   ]
  },
  {
   "cell_type": "code",
   "execution_count": 4,
   "metadata": {},
   "outputs": [
    {
     "data": {
      "text/plain": [
       "['__class__',\n",
       " '__delattr__',\n",
       " '__dict__',\n",
       " '__dir__',\n",
       " '__doc__',\n",
       " '__eq__',\n",
       " '__format__',\n",
       " '__ge__',\n",
       " '__getattribute__',\n",
       " '__getstate__',\n",
       " '__gt__',\n",
       " '__hash__',\n",
       " '__init__',\n",
       " '__init_subclass__',\n",
       " '__le__',\n",
       " '__lt__',\n",
       " '__module__',\n",
       " '__ne__',\n",
       " '__new__',\n",
       " '__reduce__',\n",
       " '__reduce_ex__',\n",
       " '__repr__',\n",
       " '__setattr__',\n",
       " '__sizeof__',\n",
       " '__str__',\n",
       " '__subclasshook__',\n",
       " '__weakref__',\n",
       " 'author',\n",
       " 'title']"
      ]
     },
     "execution_count": 4,
     "metadata": {},
     "output_type": "execute_result"
    }
   ],
   "source": [
    "dir(Book)"
   ]
  },
  {
   "cell_type": "code",
   "execution_count": 9,
   "metadata": {},
   "outputs": [
    {
     "name": "stdout",
     "output_type": "stream",
     "text": [
      "<__main__.Book object at 0x00000171715748F0>\n",
      "Words of Radiance\n",
      "Brandon Smith\n",
      "<__main__.Book object at 0x00000171716464B0>\n",
      "The way of kings\n",
      "Brandon Smith\n"
     ]
    }
   ],
   "source": [
    "# obj = class\n",
    "b1=Book()\n",
    "print(b1)\n",
    "b1.title=\"Words of Radiance\"\n",
    "b1.author=\"Brandon Smith\"\n",
    "print(b1.title)\n",
    "print(b1.author)\n",
    "\n",
    "b2=Book()\n",
    "b2.title=\"The way of kings\" \n",
    "b2.author=\"Brandon Smith\"\n",
    "print(b2)\n",
    "print(b2.title)\n",
    "print(b2.author)"
   ]
  },
  {
   "cell_type": "code",
   "execution_count": 11,
   "metadata": {},
   "outputs": [
    {
     "data": {
      "text/plain": [
       "['__class__',\n",
       " '__delattr__',\n",
       " '__dict__',\n",
       " '__dir__',\n",
       " '__doc__',\n",
       " '__eq__',\n",
       " '__format__',\n",
       " '__ge__',\n",
       " '__getattribute__',\n",
       " '__getstate__',\n",
       " '__gt__',\n",
       " '__hash__',\n",
       " '__init__',\n",
       " '__init_subclass__',\n",
       " '__le__',\n",
       " '__lt__',\n",
       " '__module__',\n",
       " '__ne__',\n",
       " '__new__',\n",
       " '__reduce__',\n",
       " '__reduce_ex__',\n",
       " '__repr__',\n",
       " '__setattr__',\n",
       " '__sizeof__',\n",
       " '__str__',\n",
       " '__subclasshook__',\n",
       " '__weakref__',\n",
       " 'date',\n",
       " 'dp',\n",
       " 'has_status',\n",
       " 'last_msg',\n",
       " 'muted',\n",
       " 'notif',\n",
       " 'pinned',\n",
       " 'sender']"
      ]
     },
     "execution_count": 11,
     "metadata": {},
     "output_type": "execute_result"
    }
   ],
   "source": [
    "class ChatMessage:\n",
    "    def __init__(self,s,msg,dp,date, n, p,m,hs):\n",
    "        self.sender=s\n",
    "        self.last_msg=msg\n",
    "        self.dp=dp\n",
    "        self.date=date\n",
    "        self.notif=n\n",
    "        self.pinned=p\n",
    "        self.muted=m\n",
    "        self.has_status=hs\n",
    "\n",
    "cm1=ChatMessage(\"Amazon pay\",'You have a coupon',\n",
    "                'amazon.png', date=\"13-08-2024\",\n",
    "                n=0,p=False,m=False,hs=True)\n",
    "dir(cm1)\n",
    "cm1.update(\"hmm\")"
   ]
  },
  {
   "cell_type": "code",
   "execution_count": 19,
   "metadata": {},
   "outputs": [],
   "source": [
    "class Student:\n",
    "    def __init__(self, name, std, roll_no):\n",
    "        self.name = name\n",
    "        self.std = std\n",
    "        self.roll_no = roll_no\n",
    "    def display(self):\n",
    "        print('Student Details:')\n",
    "        print('Name:',self.name)\n",
    "        print('Standard:',self.std)\n",
    "        print('Roll num:',self.roll_no)\n",
    "        print(\"_\"*20)"
   ]
  },
  {
   "cell_type": "code",
   "execution_count": 20,
   "metadata": {},
   "outputs": [
    {
     "name": "stdout",
     "output_type": "stream",
     "text": [
      "Student Details:\n",
      "Name: John\n",
      "Standard: 12\n",
      "Roll num: 101\n",
      "____________________\n",
      "Student Details:\n",
      "Name: Jane\n",
      "Standard: 12\n",
      "Roll num: 102\n",
      "____________________\n",
      "Student Details:\n",
      "Name: Jack\n",
      "Standard: 10\n",
      "Roll num: 103\n",
      "____________________\n"
     ]
    }
   ],
   "source": [
    "s1=Student(\"John\", 12,101)\n",
    "s2=Student(\"Jane\", 12,102)\n",
    "s3=Student(\"Jack\", 10,103)\n",
    "s1.display()\n",
    "s2.display()\n",
    "s3.display()"
   ]
  },
  {
   "cell_type": "code",
   "execution_count": 22,
   "metadata": {},
   "outputs": [],
   "source": [
    "class  Pet:\n",
    "    def __init__(self, type, age,gender):\n",
    "        self.type = type\n",
    "        self.age = age\n",
    "        self.gender = gender\n",
    "    def display(self):\n",
    "        print('Pet Details:')\n",
    "        print('Type:',self.type)\n",
    "        print('Age:',self.age)\n",
    "        print('Gender:',self.gender)\n",
    "        print(\"_\"*20)\n"
   ]
  },
  {
   "cell_type": "code",
   "execution_count": 23,
   "metadata": {},
   "outputs": [
    {
     "name": "stdout",
     "output_type": "stream",
     "text": [
      "Pet Details:\n",
      "Type: Dog\n",
      "Age: 6\n",
      "Gender: Male\n",
      "____________________\n",
      "Pet Details:\n",
      "Type: cat\n",
      "Age: 5\n",
      "Gender: Female\n",
      "____________________\n",
      "Pet Details:\n",
      "Type: Cow\n",
      "Age: 10\n",
      "Gender: Female\n",
      "____________________\n"
     ]
    }
   ],
   "source": [
    "p1=Pet(\"Dog\",6,\"Male\")\n",
    "p2=Pet(\"cat\",5,\"Female\")\n",
    "p3=Pet(\"Cow\",10,\"Female\")\n",
    "\n",
    "p1.display()\n",
    "\n",
    "p2.display()\n",
    "\n",
    "p3.display()\n"
   ]
  },
  {
   "cell_type": "code",
   "execution_count": 24,
   "metadata": {},
   "outputs": [],
   "source": [
    "from dataclasses import dataclass\n",
    "@dataclass\n",
    "class Pet:\n",
    "    pet_type: str\n",
    "    gender: str\n",
    "    color: str\n",
    "    age: int"
   ]
  },
  {
   "cell_type": "code",
   "execution_count": 25,
   "metadata": {},
   "outputs": [
    {
     "name": "stdout",
     "output_type": "stream",
     "text": [
      "Pet(pet_type='Cat', gender='Female', color='Black', age=1)\n",
      "Pet(pet_type='Dog', gender='Male', color='Brown', age=3)\n",
      "Pet(pet_type='Parrot', gender='Female', color='Green', age=1)\n"
     ]
    }
   ],
   "source": [
    "p1=Pet(pet_type='Cat', gender='Female', color=\"Black\", age=1)\n",
    "p2=Pet(pet_type='Dog', gender='Male', color=\"Brown\", age=3)\n",
    "p3=Pet(pet_type='Parrot', gender='Female', color=\"Green\", age=1)\n",
    "print(p1)\n",
    "print(p2)\n",
    "print(p3)"
   ]
  },
  {
   "cell_type": "code",
   "execution_count": 27,
   "metadata": {},
   "outputs": [
    {
     "name": "stdout",
     "output_type": "stream",
     "text": [
      "30\n",
      "20\n",
      "Rectangle r1 has greater area\n"
     ]
    }
   ],
   "source": [
    "class Rectangle:\n",
    "    def __init__(self, l, w):\n",
    "        self.length = l\n",
    "        self.width = w\n",
    "    def area(self):\n",
    "        return self.length * self.width\n",
    "    def perimeter(self):\n",
    "        return 2 * (self.length + self.width)\n",
    "    \n",
    "r1 = Rectangle(10, 3)\n",
    "r2= Rectangle(2,10)\n",
    "print(r1.area())\n",
    "print(r2.area())\n",
    "if r1.area() > r2.area():\n",
    "    print(\"Rectangle r1 has greater area\")\n",
    "else:\n",
    "    print(\"Rectangle r2 has greater area\")"
   ]
  }
 ],
 "metadata": {
  "kernelspec": {
   "display_name": "base",
   "language": "python",
   "name": "python3"
  },
  "language_info": {
   "codemirror_mode": {
    "name": "ipython",
    "version": 3
   },
   "file_extension": ".py",
   "mimetype": "text/x-python",
   "name": "python",
   "nbconvert_exporter": "python",
   "pygments_lexer": "ipython3",
   "version": "3.12.3"
  }
 },
 "nbformat": 4,
 "nbformat_minor": 2
}
