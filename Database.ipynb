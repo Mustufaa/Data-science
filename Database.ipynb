{
 "cells": [
  {
   "cell_type": "markdown",
   "metadata": {},
   "source": [
    "# SQLalchemy\n",
    "database->Python\n",
    "\n",
    "pip install sqlalchemy"
   ]
  },
  {
   "cell_type": "code",
   "execution_count": 1,
   "metadata": {},
   "outputs": [],
   "source": [
    "from sqlalchemy import create_engine\n",
    "from sqlalchemy.orm import sessionmaker, declarative_base\n",
    "from sqlalchemy import Column, Integer, String, DateTime\n",
    "from datetime import datetime"
   ]
  },
  {
   "cell_type": "code",
   "execution_count": 2,
   "metadata": {},
   "outputs": [],
   "source": [
    "Base= declarative_base()\n",
    "class Task(Base):\n",
    "    __tablename__ = 'tasks'\n",
    "    id = Column(Integer, primary_key=True)\n",
    "    task=Column(String)\n",
    "    deadline = Column(DateTime, default=datetime.now())\n",
    "\n"
   ]
  },
  {
   "cell_type": "code",
   "execution_count": 4,
   "metadata": {},
   "outputs": [
    {
     "name": "stdout",
     "output_type": "stream",
     "text": [
      "2024-08-14 06:23:14,300 INFO sqlalchemy.engine.Engine BEGIN (implicit)\n",
      "2024-08-14 06:23:14,302 INFO sqlalchemy.engine.Engine PRAGMA main.table_info(\"tasks\")\n",
      "2024-08-14 06:23:14,304 INFO sqlalchemy.engine.Engine [raw sql] ()\n",
      "2024-08-14 06:23:14,310 INFO sqlalchemy.engine.Engine PRAGMA temp.table_info(\"tasks\")\n",
      "2024-08-14 06:23:14,312 INFO sqlalchemy.engine.Engine [raw sql] ()\n",
      "2024-08-14 06:23:14,316 INFO sqlalchemy.engine.Engine \n",
      "CREATE TABLE tasks (\n",
      "\tid INTEGER NOT NULL, \n",
      "\ttask VARCHAR, \n",
      "\tdeadline DATETIME, \n",
      "\tPRIMARY KEY (id)\n",
      ")\n",
      "\n",
      "\n",
      "2024-08-14 06:23:14,319 INFO sqlalchemy.engine.Engine [no key 0.00285s] ()\n",
      "2024-08-14 06:23:14,345 INFO sqlalchemy.engine.Engine COMMIT\n"
     ]
    }
   ],
   "source": [
    "engine= create_engine('sqlite:///mydb.sqlite3',echo=True)\n",
    "Base.metadata.create_all(engine)"
   ]
  },
  {
   "cell_type": "code",
   "execution_count": 5,
   "metadata": {},
   "outputs": [],
   "source": [
    "def open_db():\n",
    "    engine= create_engine('sqlite:///mydb.sqlite3',echo=True)\n",
    "    Sesssion= sessionmaker(bind=engine)\n",
    "    return Sesssion()"
   ]
  },
  {
   "cell_type": "code",
   "execution_count": 6,
   "metadata": {},
   "outputs": [
    {
     "name": "stdout",
     "output_type": "stream",
     "text": [
      "2024-08-14 06:33:21,506 INFO sqlalchemy.engine.Engine BEGIN (implicit)\n",
      "2024-08-14 06:33:21,512 INFO sqlalchemy.engine.Engine INSERT INTO tasks (task, deadline) VALUES (?, ?)\n",
      "2024-08-14 06:33:21,514 INFO sqlalchemy.engine.Engine [generated in 0.00224s] ('Learn SQLAlchemy', '2024-08-01 00:00:00.000000')\n",
      "2024-08-14 06:33:21,521 INFO sqlalchemy.engine.Engine INSERT INTO tasks (task, deadline) VALUES (?, ?)\n",
      "2024-08-14 06:33:21,522 INFO sqlalchemy.engine.Engine [generated in 0.00190s] ('Happy Independence Day', '2024-08-14 06:20:24.901929')\n",
      "2024-08-14 06:33:21,528 INFO sqlalchemy.engine.Engine COMMIT\n"
     ]
    }
   ],
   "source": [
    "db=open_db()\n",
    "db.add(Task(task=\"Learn SQLAlchemy\", deadline=datetime(2024,8,1)))\n",
    "db.add(Task(task=\"Happy Independence Day\"))\n",
    "db.commit()\n",
    "db.close()\n",
    "       "
   ]
  }
 ],
 "metadata": {
  "kernelspec": {
   "display_name": "base",
   "language": "python",
   "name": "python3"
  },
  "language_info": {
   "codemirror_mode": {
    "name": "ipython",
    "version": 3
   },
   "file_extension": ".py",
   "mimetype": "text/x-python",
   "name": "python",
   "nbconvert_exporter": "python",
   "pygments_lexer": "ipython3",
   "version": "3.12.3"
  }
 },
 "nbformat": 4,
 "nbformat_minor": 2
}
