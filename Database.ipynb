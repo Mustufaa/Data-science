{
 "cells": [
  {
   "cell_type": "markdown",
   "metadata": {},
   "source": [
    "# SQLalchemy\n",
    "database->Python\n",
    "\n",
    "pip install sqlalchemy"
   ]
  },
  {
   "cell_type": "code",
   "execution_count": 18,
   "metadata": {},
   "outputs": [],
   "source": [
    "from sqlalchemy import create_engine\n",
    "from sqlalchemy.orm import sessionmaker, declarative_base\n",
    "from sqlalchemy import Column, Integer, String, DateTime\n",
    "from datetime import datetime"
   ]
  },
  {
   "cell_type": "code",
   "execution_count": 19,
   "metadata": {},
   "outputs": [],
   "source": [
    "Base= declarative_base()\n",
    "class Task(Base):\n",
    "    __tablename__ = 'tasks'\n",
    "    id = Column(Integer, primary_key=True)\n",
    "    task=Column(String)\n",
    "    deadline = Column(DateTime, default=datetime.now())\n",
    "\n"
   ]
  },
  {
   "cell_type": "code",
   "execution_count": 43,
   "metadata": {},
   "outputs": [
    {
     "name": "stdout",
     "output_type": "stream",
     "text": [
      "2024-08-16 05:49:12,091 INFO sqlalchemy.engine.Engine BEGIN (implicit)\n",
      "2024-08-16 05:49:12,095 INFO sqlalchemy.engine.Engine PRAGMA main.table_info(\"tasks\")\n",
      "2024-08-16 05:49:12,098 INFO sqlalchemy.engine.Engine [raw sql] ()\n",
      "2024-08-16 05:49:12,103 INFO sqlalchemy.engine.Engine COMMIT\n"
     ]
    }
   ],
   "source": [
    "engine= create_engine('sqlite:///mydb.sqlite3',echo=True)\n",
    "Base.metadata.create_all(engine)"
   ]
  },
  {
   "cell_type": "code",
   "execution_count": 45,
   "metadata": {},
   "outputs": [],
   "source": [
    "def open_db():\n",
    "    engine= create_engine('sqlite:///mydb.sqlite3')\n",
    "    Sesssion= sessionmaker(bind=engine)\n",
    "    return Sesssion()"
   ]
  },
  {
   "cell_type": "markdown",
   "metadata": {},
   "source": [
    "ORM"
   ]
  },
  {
   "cell_type": "code",
   "execution_count": 22,
   "metadata": {},
   "outputs": [
    {
     "name": "stdout",
     "output_type": "stream",
     "text": [
      "2024-08-16 05:40:22,872 INFO sqlalchemy.engine.Engine BEGIN (implicit)\n",
      "2024-08-16 05:40:22,879 INFO sqlalchemy.engine.Engine INSERT INTO tasks (task, deadline) VALUES (?, ?)\n",
      "2024-08-16 05:40:22,881 INFO sqlalchemy.engine.Engine [generated in 0.00240s] ('Learn SQLAlchemy', '2024-08-01 00:00:00.000000')\n",
      "2024-08-16 05:40:22,890 INFO sqlalchemy.engine.Engine INSERT INTO tasks (task, deadline) VALUES (?, ?) RETURNING id\n",
      "2024-08-16 05:40:22,893 INFO sqlalchemy.engine.Engine [generated in 0.00031s (insertmanyvalues) 1/2 (ordered; batch not supported)] ('Happy Independence Day', '2024-08-16 05:40:22.768317')\n",
      "2024-08-16 05:40:22,896 INFO sqlalchemy.engine.Engine INSERT INTO tasks (task, deadline) VALUES (?, ?) RETURNING id\n",
      "2024-08-16 05:40:22,901 INFO sqlalchemy.engine.Engine [insertmanyvalues 2/2 (ordered; batch not supported)] ('Take out the trash', '2024-08-16 05:40:22.768317')\n",
      "2024-08-16 05:40:22,906 INFO sqlalchemy.engine.Engine INSERT INTO tasks (task, deadline) VALUES (?, ?) RETURNING id\n",
      "2024-08-16 05:40:22,908 INFO sqlalchemy.engine.Engine [generated in 0.00033s (insertmanyvalues) 1/4 (ordered; batch not supported)] ('Clear the fridge', '2024-08-23 00:00:00.000000')\n",
      "2024-08-16 05:40:22,911 INFO sqlalchemy.engine.Engine INSERT INTO tasks (task, deadline) VALUES (?, ?) RETURNING id\n",
      "2024-08-16 05:40:22,913 INFO sqlalchemy.engine.Engine [insertmanyvalues 2/4 (ordered; batch not supported)] ('Generate the report', '2024-08-16 00:00:00.000000')\n",
      "2024-08-16 05:40:22,917 INFO sqlalchemy.engine.Engine INSERT INTO tasks (task, deadline) VALUES (?, ?) RETURNING id\n",
      "2024-08-16 05:40:22,921 INFO sqlalchemy.engine.Engine [insertmanyvalues 3/4 (ordered; batch not supported)] ('Pay Subcription fees', '2024-08-18 00:00:00.000000')\n",
      "2024-08-16 05:40:22,924 INFO sqlalchemy.engine.Engine INSERT INTO tasks (task, deadline) VALUES (?, ?) RETURNING id\n",
      "2024-08-16 05:40:22,926 INFO sqlalchemy.engine.Engine [insertmanyvalues 4/4 (ordered; batch not supported)] ('Celebrate birthday', '2024-08-25 00:00:00.000000')\n",
      "2024-08-16 05:40:22,930 INFO sqlalchemy.engine.Engine COMMIT\n"
     ]
    }
   ],
   "source": [
    "db=open_db()\n",
    "db.add(Task(task=\"Learn SQLAlchemy\", deadline=datetime(2024,8,1)))\n",
    "db.add(Task(task=\"Happy Independence Day\"))\n",
    "db.add(Task(task=\"Take out the trash\"))\n",
    "db.add(Task(task=\"Clear the fridge\",deadline=datetime(2024,8,23)))\n",
    "db.add(Task(task=\"Generate the report\",deadline=datetime(2024,8,16)))\n",
    "db.add(Task(task=\"Pay Subcription fees\",deadline=datetime(2024,8,18)))\n",
    "db.add(Task(task=\"Celebrate birthday\",deadline=datetime(2024,8,25)))\n",
    "\n",
    "\n",
    "db.commit()\n",
    "db.close()\n",
    "       "
   ]
  },
  {
   "cell_type": "markdown",
   "metadata": {},
   "source": [
    "Querying the database\n",
    "- get all the data\n",
    "- get specific data using filters"
   ]
  },
  {
   "cell_type": "code",
   "execution_count": 23,
   "metadata": {},
   "outputs": [
    {
     "name": "stdout",
     "output_type": "stream",
     "text": [
      "2024-08-16 05:40:22,976 INFO sqlalchemy.engine.Engine BEGIN (implicit)\n",
      "2024-08-16 05:40:22,980 INFO sqlalchemy.engine.Engine SELECT tasks.id AS tasks_id, tasks.task AS tasks_task, tasks.deadline AS tasks_deadline \n",
      "FROM tasks\n",
      "2024-08-16 05:40:22,982 INFO sqlalchemy.engine.Engine [generated in 0.00225s] ()\n",
      "# 1 | Learn SQLAlchemy               | 2024-08-01 | 00:00:00\n",
      "# 2 | Happy Independence Day         | 2024-08-16 | 05:37:36.184176\n",
      "# 3 | Take out the trash             | 2024-08-16 | 05:37:36.184176\n",
      "# 4 | Clear the fridge               | 2024-08-23 | 00:00:00\n",
      "# 5 | Generate the report            | 2024-08-16 | 00:00:00\n",
      "# 6 | Pay Subcription fees           | 2024-08-18 | 00:00:00\n",
      "# 7 | Celebrate birthday             | 2024-08-25 | 00:00:00\n",
      "# 8 | Learn SQLAlchemy               | 2024-08-01 | 00:00:00\n",
      "# 9 | Happy Independence Day         | 2024-08-16 | 05:40:22.768317\n",
      "# 10 | Take out the trash             | 2024-08-16 | 05:40:22.768317\n",
      "# 11 | Clear the fridge               | 2024-08-23 | 00:00:00\n",
      "# 12 | Generate the report            | 2024-08-16 | 00:00:00\n",
      "# 13 | Pay Subcription fees           | 2024-08-18 | 00:00:00\n",
      "# 14 | Celebrate birthday             | 2024-08-25 | 00:00:00\n",
      "2024-08-16 05:40:22,989 INFO sqlalchemy.engine.Engine ROLLBACK\n"
     ]
    }
   ],
   "source": [
    "db= open_db()\n",
    "tasks= db.query(Task).all()\n",
    "for item in tasks:\n",
    "    print(f'# {item.id} | {item.task:30} | {item.deadline.date()} | {item.deadline.time()}')\n",
    "db.close()"
   ]
  },
  {
   "cell_type": "code",
   "execution_count": 33,
   "metadata": {},
   "outputs": [
    {
     "name": "stdout",
     "output_type": "stream",
     "text": [
      "2024-08-16 05:40:51,586 INFO sqlalchemy.engine.Engine BEGIN (implicit)\n",
      "2024-08-16 05:40:51,590 INFO sqlalchemy.engine.Engine SELECT tasks.id AS tasks_id, tasks.task AS tasks_task, tasks.deadline AS tasks_deadline \n",
      "FROM tasks \n",
      "WHERE tasks.id = ?\n",
      "2024-08-16 05:40:51,593 INFO sqlalchemy.engine.Engine [generated in 0.00281s] (6,)\n",
      "# 14 | Celebrate birthday             | 2024-08-25 | 00:00:00\n"
     ]
    }
   ],
   "source": [
    "#get item by id\n",
    "id=6\n",
    "db=open_db()\n",
    "task=db.get(Task, id)\n",
    "if task:\n",
    "    print(f'# {item.id} | {item.task:30} | {item.deadline.date()} | {item.deadline.time()}')\n",
    "\n"
   ]
  },
  {
   "cell_type": "code",
   "execution_count": 36,
   "metadata": {},
   "outputs": [
    {
     "name": "stdout",
     "output_type": "stream",
     "text": [
      "2024-08-16 05:46:48,914 INFO sqlalchemy.engine.Engine BEGIN (implicit)\n",
      "2024-08-16 05:46:48,919 INFO sqlalchemy.engine.Engine SELECT tasks.id AS tasks_id, tasks.task AS tasks_task, tasks.deadline AS tasks_deadline \n",
      "FROM tasks \n",
      "WHERE tasks.task = ?\n",
      "2024-08-16 05:46:48,921 INFO sqlalchemy.engine.Engine [generated in 0.00241s] ('Take out the trash',)\n",
      "# 3 | Take out the trash             | 2024-08-16 | 05:37:36.184176\n",
      "2024-08-16 05:46:48,928 INFO sqlalchemy.engine.Engine ROLLBACK\n"
     ]
    }
   ],
   "source": [
    "title='Take out the trash'\n",
    "db=open_db()\n",
    "task=db.query(Task).filter(Task.task==title).all()\n",
    "for item in task:\n",
    "    print(f'# {item.id} | {item.task:30} | {item.deadline.date()} | {item.deadline.time()}')\n",
    "\n",
    "db.close()"
   ]
  },
  {
   "cell_type": "code",
   "execution_count": 46,
   "metadata": {},
   "outputs": [
    {
     "name": "stdout",
     "output_type": "stream",
     "text": [
      "# 5 | Generate the report            | 2024-08-16 | 00:00:00\n"
     ]
    }
   ],
   "source": [
    "#filter items by date\n",
    "date=\"16-08-2024\"\n",
    "date=datetime.strptime(date, \"%d-%m-%Y\")\n",
    "db=open_db()\n",
    "tasks=db.query(Task).filter(Task.deadline==date).all()\n",
    "for item in tasks:\n",
    "    print(f'# {item.id} | {item.task:30} | {item.deadline.date()} | {item.deadline.time()}')\n",
    "db.close()"
   ]
  },
  {
   "cell_type": "code",
   "execution_count": 47,
   "metadata": {},
   "outputs": [
    {
     "name": "stdout",
     "output_type": "stream",
     "text": [
      "# 2 | Happy Independence Day         | 2024-08-16 | 05:37:36.184176\n",
      "# 7 | Celebrate birthday             | 2024-08-25 | 00:00:00\n"
     ]
    }
   ],
   "source": [
    "db=open_db()\n",
    "tasks=db.query(Task).filter(Task.task.icontains(\"day\")).all()\n",
    "for item in tasks:\n",
    "    print(f'# {item.id} | {item.task:30} | {item.deadline.date()} | {item.deadline.time()}')"
   ]
  },
  {
   "cell_type": "code",
   "execution_count": 50,
   "metadata": {},
   "outputs": [],
   "source": [
    "#update item\n",
    "id= 7\n",
    "db=open_db()\n",
    "result = db.get(Task,id)\n",
    "if result:\n",
    "    result.task=\"Generate student report\"\n",
    "    result.deadline=datetime(2024,8,20)\n",
    "    db.commit()\n",
    "db.close()"
   ]
  },
  {
   "cell_type": "code",
   "execution_count": 51,
   "metadata": {},
   "outputs": [
    {
     "name": "stdout",
     "output_type": "stream",
     "text": [
      "Item deleted successfully\n"
     ]
    }
   ],
   "source": [
    "#delete item\n",
    "id= 6\n",
    "db=open_db()\n",
    "result = db.get(Task,id)\n",
    "if result:\n",
    "    db.delete=\"Generate student report\"\n",
    "    db.commit()\n",
    "    print(\"Item deleted successfully\")\n",
    "db.close()"
   ]
  },
  {
   "cell_type": "code",
   "execution_count": null,
   "metadata": {},
   "outputs": [],
   "source": []
  }
 ],
 "metadata": {
  "kernelspec": {
   "display_name": "base",
   "language": "python",
   "name": "python3"
  },
  "language_info": {
   "codemirror_mode": {
    "name": "ipython",
    "version": 3
   },
   "file_extension": ".py",
   "mimetype": "text/x-python",
   "name": "python",
   "nbconvert_exporter": "python",
   "pygments_lexer": "ipython3",
   "version": "3.12.3"
  }
 },
 "nbformat": 4,
 "nbformat_minor": 2
}
