{
 "cells": [
  {
   "cell_type": "code",
   "execution_count": 12,
   "metadata": {},
   "outputs": [
    {
     "name": "stdout",
     "output_type": "stream",
     "text": [
      "isha\n",
      "harsh\n",
      "divyansh\n",
      "muskan\n",
      "zaid\n"
     ]
    }
   ],
   "source": [
    "name=['isha','harsh','divyansh','muskan','zaid']\n",
    "for i in name:\n",
    "    print(i)"
   ]
  },
  {
   "cell_type": "code",
   "execution_count": 21,
   "metadata": {},
   "outputs": [
    {
     "name": "stdout",
     "output_type": "stream",
     "text": [
      "1 harsh\n",
      "3 muskan\n"
     ]
    }
   ],
   "source": [
    "for i, v in enumerate(name):\n",
    "    if i % 2 == 0:\n",
    "        continue\n",
    "    print(i,v)"
   ]
  },
  {
   "cell_type": "code",
   "execution_count": 22,
   "metadata": {},
   "outputs": [
    {
     "name": "stdout",
     "output_type": "stream",
     "text": [
      "0 isha\n",
      "2 divyansh\n",
      "4 zaid\n"
     ]
    }
   ],
   "source": [
    "for i, v in enumerate(name):\n",
    "    if i % 2 != 0:\n",
    "        continue\n",
    "    print(i,v)"
   ]
  },
  {
   "cell_type": "code",
   "execution_count": 26,
   "metadata": {},
   "outputs": [
    {
     "name": "stdout",
     "output_type": "stream",
     "text": [
      "1 + 6= 7\n",
      "2 + 7= 9\n",
      "3 + 8= 11\n",
      "4 + 9= 13\n",
      "5 + 10= 15\n"
     ]
    }
   ],
   "source": [
    "x=[1,2,3,4,5]\n",
    "y=[6,7,8,9,10]\n",
    "\n",
    "for i,j in zip(x, y):\n",
    "    print(f'{i} + {j}= {i+j}')\n",
    "\n",
    "\n"
   ]
  },
  {
   "cell_type": "code",
   "execution_count": 29,
   "metadata": {},
   "outputs": [
    {
     "name": "stdout",
     "output_type": "stream",
     "text": [
      "1 + 4 + 7 = 12\n",
      "2 + 5 + 8 = 15\n",
      "3 + 6 + 9 = 18\n"
     ]
    }
   ],
   "source": [
    "a=[1,2,3]\n",
    "b=[4,5,6]\n",
    "c=[7,8,9]\n",
    " \n",
    "for m,n,o in zip(a,b,c):\n",
    "    print(f'{m} + {n} + {o} = {m+n+o}')"
   ]
  },
  {
   "cell_type": "code",
   "execution_count": 41,
   "metadata": {},
   "outputs": [
    {
     "name": "stdout",
     "output_type": "stream",
     "text": [
      "apple     | 100 | 3 |  300\n",
      "banana    | 200 | 2 |  400\n",
      "cherry    | 300 | 5 | 1500\n",
      "___________________________\n",
      "total                 2200\n"
     ]
    }
   ],
   "source": [
    "names = ['apple','banana','cherry']\n",
    "price = [100, 200, 300]\n",
    "qty = [3,2,5]\n",
    "total= 0\n",
    "for n,p,q in zip(names,price,qty):\n",
    "    print(f'{n:10}|{p:^5}|{q:^3}|{p*q:>5}')\n",
    "    total += p*q\n",
    "print('_'*27)\n",
    "print(f'total {total:20}')"
   ]
  },
  {
   "cell_type": "code",
   "execution_count": 42,
   "metadata": {},
   "outputs": [
    {
     "name": "stdout",
     "output_type": "stream",
     "text": [
      "0\n",
      "1\n",
      "2\n",
      "3\n",
      "4\n",
      "loop complete successful\n"
     ]
    }
   ],
   "source": [
    "for i in range(5):\n",
    "    print(i)\n",
    "    if i == 10:\n",
    "        break\n",
    "else:\n",
    "    print('loop complete successful')"
   ]
  },
  {
   "cell_type": "code",
   "execution_count": 45,
   "metadata": {},
   "outputs": [
    {
     "name": "stdout",
     "output_type": "stream",
     "text": [
      "1\n",
      "2\n",
      "3\n",
      "4\n",
      "5\n",
      "6\n",
      "7\n",
      "8\n",
      "9\n",
      "loop terminated\n"
     ]
    }
   ],
   "source": [
    "n= int(input(\"Enter a stop value\"))\n",
    "for i in range(1,11):\n",
    "    if i == n:\n",
    "        print('loop terminated')\n",
    "        break\n",
    "    print(i)\n",
    "else:\n",
    "    print(\"well done\")"
   ]
  },
  {
   "cell_type": "code",
   "execution_count": 48,
   "metadata": {},
   "outputs": [
    {
     "name": "stdout",
     "output_type": "stream",
     "text": [
      "23 % 2 == False\n",
      "23 % 3 == False\n",
      "23 % 4 == False\n",
      "23 % 5 == False\n",
      "23 % 6 == False\n",
      "23 % 7 == False\n",
      "23 % 8 == False\n",
      "23 % 9 == False\n",
      "23 % 10 == False\n",
      "23 % 11 == False\n",
      "23 % 12 == False\n",
      "23 % 13 == False\n",
      "23 % 14 == False\n",
      "23 % 15 == False\n",
      "23 % 16 == False\n",
      "23 % 17 == False\n",
      "23 % 18 == False\n",
      "23 % 19 == False\n",
      "23 % 20 == False\n",
      "23 % 21 == False\n",
      "23 % 22 == False\n",
      "Prime\n"
     ]
    }
   ],
   "source": [
    "#prime number\n",
    "n = int(input('Enter the number'))\n",
    "for i in range(2,n):\n",
    "    print(f'{n} % {i} == {n%i==0}')\n",
    "    if n%i==0:\n",
    "        print('Not prime')\n",
    "        break\n",
    "else:\n",
    "    print('Prime')"
   ]
  },
  {
   "cell_type": "code",
   "execution_count": 49,
   "metadata": {},
   "outputs": [
    {
     "name": "stdout",
     "output_type": "stream",
     "text": [
      "200\n",
      "180\n",
      "160\n",
      "140\n",
      "120\n",
      "100\n",
      "80\n",
      "60\n",
      "40\n",
      "20\n"
     ]
    }
   ],
   "source": [
    "i = 200\n",
    "while i>0:\n",
    "    print(i)\n",
    "    i -=20"
   ]
  },
  {
   "cell_type": "code",
   "execution_count": null,
   "metadata": {},
   "outputs": [],
   "source": []
  }
 ],
 "metadata": {
  "kernelspec": {
   "display_name": "base",
   "language": "python",
   "name": "python3"
  },
  "language_info": {
   "codemirror_mode": {
    "name": "ipython",
    "version": 3
   },
   "file_extension": ".py",
   "mimetype": "text/x-python",
   "name": "python",
   "nbconvert_exporter": "python",
   "pygments_lexer": "ipython3",
   "version": "3.12.3"
  }
 },
 "nbformat": 4,
 "nbformat_minor": 2
}
