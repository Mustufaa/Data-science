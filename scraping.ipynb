{
 "cells": [
  {
   "cell_type": "code",
   "execution_count": 7,
   "metadata": {},
   "outputs": [],
   "source": [
    "from dputils.scrape import Scraper, Tag"
   ]
  },
  {
   "cell_type": "code",
   "execution_count": 8,
   "metadata": {},
   "outputs": [],
   "source": [
    "url=\"https://digipodium.com/mining-demo.html\"\n",
    "sc1 = Scraper(url)"
   ]
  },
  {
   "cell_type": "code",
   "execution_count": 9,
   "metadata": {},
   "outputs": [],
   "source": [
    "target = Tag('main')\n",
    "items= Tag(cls='col')\n",
    "title= Tag('h4')\n",
    "print= Tag('h1')\n",
    "oprice= Tag('li',cls='text-muted o-price')"
   ]
  },
  {
   "cell_type": "code",
   "execution_count": 10,
   "metadata": {},
   "outputs": [
    {
     "data": {
      "text/plain": [
       "[{'title': 'LuxoWatch ', 'print': '₹5949.82', 'oprice': '₹7436.88'},\n",
       " {'title': 'SuperPhone X', 'print': '₹67118.07', 'oprice': '₹79044.38'},\n",
       " {'title': 'Miracle Blender', 'print': '₹3689.88', 'oprice': '₹5273.51'},\n",
       " {'title': 'Quantum Headphones', 'print': '₹9709.69', 'oprice': '₹12922.74'},\n",
       " {'title': 'SmartFridge', 'print': '₹89699.05', 'oprice': '₹109295.41'},\n",
       " {'title': 'Galactic Glasses', 'print': '₹2234.52', 'oprice': '₹2488.20'},\n",
       " {'title': 'PowerJuicer', 'print': '₹6651.27', 'oprice': '₹8536.48'},\n",
       " {'title': 'iSpectre Laptop', 'print': '₹119647.11', 'oprice': '₹149208.92'},\n",
       " {'title': 'HealthBand', 'print': '₹5228.64', 'oprice': '₹5949.82'},\n",
       " {'title': 'MaxiSound Speaker', 'print': '₹14908.25', 'oprice': '₹22972.57'},\n",
       " {'title': 'UltraSound Toothbrush', 'print': '₹2456.50', 'oprice': '₹2889.41'},\n",
       " {'title': 'SuperFit Smartwatch', 'print': '₹3679.99', 'oprice': '₹4899'},\n",
       " {'title': 'GoPro Hero 9', 'print': '₹28999.00', 'oprice': '₹36124.99'},\n",
       " {'title': 'AirPods Pro', 'print': '₹12780.50', 'oprice': '₹14199.44'},\n",
       " {'title': 'Fitness Treadmill', 'print': '₹38999.00', 'oprice': '₹45883.50'},\n",
       " {'title': 'Bluetooth Headphones', 'print': '₹1649.99', 'oprice': '₹1833.32'},\n",
       " {'title': 'Smart Thermostat', 'print': '₹2999.00', 'oprice': '₹3749.00'},\n",
       " {'title': 'Automatic Coffee Maker',\n",
       "  'print': '₹6299.99',\n",
       "  'oprice': '₹7411.75'},\n",
       " {'title': 'Wireless Charger', 'print': '₹1499.50', 'oprice': '₹1665.00'},\n",
       " {'title': 'Bluetooth Headphones', 'print': '₹1649.99', 'oprice': '₹1833.32'},\n",
       " {'title': 'Smart Thermostat', 'print': '₹2999.00', 'oprice': '₹3749.00'},\n",
       " {'title': 'Automatic Coffee Maker',\n",
       "  'print': '₹6299.99',\n",
       "  'oprice': '₹7411.75'},\n",
       " {'title': 'Wireless Charger', 'print': '₹1499.50', 'oprice': '₹1665.00'},\n",
       " {'title': 'Wireless Bluetooth Earbuds',\n",
       "  'print': '₹899.99',\n",
       "  'oprice': '₹999.99'}]"
      ]
     },
     "execution_count": 10,
     "metadata": {},
     "output_type": "execute_result"
    }
   ],
   "source": [
    "sc1.get_repeating_date_from_page(\n",
    "    target=target,\n",
    "    items=items,\n",
    "    title=title,\n",
    "    print=print,\n",
    "    oprice=oprice\n",
    ")   \n"
   ]
  },
  {
   "cell_type": "code",
   "execution_count": 11,
   "metadata": {},
   "outputs": [],
   "source": [
    "\n",
    "def get_items_from_flipkart(query,page=1):\n",
    "    url= f\"https://www.flipkart.com/search?q={query}&page={page}\"\n",
    "    sc2=  Scraper(url)\n",
    "    t=Tag(cls=\"DOjaWF gdgoEp\")\n",
    "    i=Tag(cls=\"slAVV4\")\n",
    "    return sc2.get_repeating_date_from_page(\n",
    "        target=t,\n",
    "        items=i,\n",
    "        image=Tag('img',cls=\"eager\",output=\"src\"),\n",
    "        link= Tag(\"a\",cls=\"VJA3rP\",output=\"href\"),\n",
    "        title=Tag(\"a\",cls=\"wjcEIp\")\n",
    "    )\n"
   ]
  },
  {
   "cell_type": "code",
   "execution_count": 12,
   "metadata": {},
   "outputs": [
    {
     "ename": "TypeError",
     "evalue": "'Tag' object is not callable",
     "output_type": "error",
     "traceback": [
      "\u001b[1;31m---------------------------------------------------------------------------\u001b[0m",
      "\u001b[1;31mTypeError\u001b[0m                                 Traceback (most recent call last)",
      "Cell \u001b[1;32mIn[12], line 7\u001b[0m\n\u001b[0;32m      5\u001b[0m data\u001b[38;5;241m=\u001b[39m get_items_from_flipkart(query,page)\n\u001b[0;32m      6\u001b[0m \u001b[38;5;28;01mif\u001b[39;00m \u001b[38;5;28mlen\u001b[39m(data)\u001b[38;5;241m>\u001b[39m\u001b[38;5;241m0\u001b[39m:\n\u001b[1;32m----> 7\u001b[0m     \u001b[38;5;28mprint\u001b[39m(\u001b[38;5;124mf\u001b[39m\u001b[38;5;124m\"\u001b[39m\u001b[38;5;124mScraped \u001b[39m\u001b[38;5;132;01m{\u001b[39;00mpage\u001b[38;5;132;01m}\u001b[39;00m\u001b[38;5;124m\"\u001b[39m)\n\u001b[0;32m      8\u001b[0m     all_data\u001b[38;5;241m.\u001b[39mextend(data)\n\u001b[0;32m      9\u001b[0m     page\u001b[38;5;241m+\u001b[39m\u001b[38;5;241m=\u001b[39m\u001b[38;5;241m1\u001b[39m\n",
      "\u001b[1;31mTypeError\u001b[0m: 'Tag' object is not callable"
     ]
    }
   ],
   "source": [
    "query=\"books\"\n",
    "page=1\n",
    "all_data=[]\n",
    "while True:\n",
    "    data= get_items_from_flipkart(query,page)\n",
    "    if len(data)>0:\n",
    "        print(f\"Scraped {page}\")\n",
    "        all_data.extend(data)\n",
    "        page+=1\n",
    "    else:\n",
    "        print('Stopping, no more data')\n",
    "        break"
   ]
  },
  {
   "cell_type": "code",
   "execution_count": null,
   "metadata": {},
   "outputs": [],
   "source": [
    "page"
   ]
  },
  {
   "cell_type": "code",
   "execution_count": null,
   "metadata": {},
   "outputs": [],
   "source": [
    "import pandas as pd\n",
    "pd.DataFrame(all_data)"
   ]
  },
  {
   "cell_type": "markdown",
   "metadata": {},
   "source": [
    "single  page scraping\n"
   ]
  },
  {
   "cell_type": "code",
   "execution_count": null,
   "metadata": {},
   "outputs": [],
   "source": [
    "url=\"https://www.flipkart.com/maths-concept-king-all-formulas-theorum-smart-tricks-arithmetic-advance-bilingual-2024-cet-ssc-cgl-cpo-chsl-mts-cds-upsc-all-other-competitive-exams-formula-book/p/itm2629f92642d49?pid=RBKHYZ9SGHURAPTZ&lid=LSTRBKHYZ9SGHURAPTZZCR4AM&marketplace=FLIPKART&q=books&store=bks&spotlightTagId=BestsellerId_bks&srno=s_1_3&otracker=search&otracker1=search&fm=Search&iid=ce9d0a3f-d3cf-4df0-9b68-d66fd6022eb7.RBKHYZ9SGHURAPTZ.SEARCH&ppt=sp&ppn=sp&ssid=1qwptp3b4w0000001723897822014&qH=7d8949bcbf85067f\"\n",
    "sc3=Scraper(url)\n",
    "sc3.get_data_from_page(\n",
    "    title=Tag('span',cls=\"VU-ZEz\"),\n",
    "    price=Tag(cls= \"CxhGGNx9bqjd\"),\n",
    "    rating=Tag(\"span\",cls=\"Wphh3N\"),\n",
    "    #desc=Tag(cls=)\n",
    ")"
   ]
  },
  {
   "cell_type": "code",
   "execution_count": null,
   "metadata": {},
   "outputs": [],
   "source": []
  }
 ],
 "metadata": {
  "kernelspec": {
   "display_name": "base",
   "language": "python",
   "name": "python3"
  },
  "language_info": {
   "codemirror_mode": {
    "name": "ipython",
    "version": 3
   },
   "file_extension": ".py",
   "mimetype": "text/x-python",
   "name": "python",
   "nbconvert_exporter": "python",
   "pygments_lexer": "ipython3",
   "version": "3.12.3"
  }
 },
 "nbformat": 4,
 "nbformat_minor": 2
}
