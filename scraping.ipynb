{
 "cells": [
  {
   "cell_type": "code",
   "execution_count": 1,
   "metadata": {},
   "outputs": [],
   "source": [
    "from dputils.scrape import Scraper, Tag"
   ]
  },
  {
   "cell_type": "code",
   "execution_count": 10,
   "metadata": {},
   "outputs": [],
   "source": [
    "url=\"https://digipodium.com/mining-demo.html\"\n",
    "sc1 = Scraper(url)"
   ]
  },
  {
   "cell_type": "code",
   "execution_count": 11,
   "metadata": {},
   "outputs": [],
   "source": [
    "target = Tag('main')\n",
    "items= Tag(cls='col')\n",
    "title= Tag('h4')\n",
    "print= Tag('h1')\n",
    "oprice= Tag('li',cls='text-muted o-price')"
   ]
  },
  {
   "cell_type": "code",
   "execution_count": 13,
   "metadata": {},
   "outputs": [
    {
     "data": {
      "text/plain": [
       "[{'title': 'LuxoWatch ', 'print': '₹5949.82', 'oprice': '₹7436.88'},\n",
       " {'title': 'SuperPhone X', 'print': '₹67118.07', 'oprice': '₹79044.38'},\n",
       " {'title': 'Miracle Blender', 'print': '₹3689.88', 'oprice': '₹5273.51'},\n",
       " {'title': 'Quantum Headphones', 'print': '₹9709.69', 'oprice': '₹12922.74'},\n",
       " {'title': 'SmartFridge', 'print': '₹89699.05', 'oprice': '₹109295.41'},\n",
       " {'title': 'Galactic Glasses', 'print': '₹2234.52', 'oprice': '₹2488.20'},\n",
       " {'title': 'PowerJuicer', 'print': '₹6651.27', 'oprice': '₹8536.48'},\n",
       " {'title': 'iSpectre Laptop', 'print': '₹119647.11', 'oprice': '₹149208.92'},\n",
       " {'title': 'HealthBand', 'print': '₹5228.64', 'oprice': '₹5949.82'},\n",
       " {'title': 'MaxiSound Speaker', 'print': '₹14908.25', 'oprice': '₹22972.57'},\n",
       " {'title': 'UltraSound Toothbrush', 'print': '₹2456.50', 'oprice': '₹2889.41'},\n",
       " {'title': 'SuperFit Smartwatch', 'print': '₹3679.99', 'oprice': '₹4899'},\n",
       " {'title': 'GoPro Hero 9', 'print': '₹28999.00', 'oprice': '₹36124.99'},\n",
       " {'title': 'AirPods Pro', 'print': '₹12780.50', 'oprice': '₹14199.44'},\n",
       " {'title': 'Fitness Treadmill', 'print': '₹38999.00', 'oprice': '₹45883.50'},\n",
       " {'title': 'Bluetooth Headphones', 'print': '₹1649.99', 'oprice': '₹1833.32'},\n",
       " {'title': 'Smart Thermostat', 'print': '₹2999.00', 'oprice': '₹3749.00'},\n",
       " {'title': 'Automatic Coffee Maker',\n",
       "  'print': '₹6299.99',\n",
       "  'oprice': '₹7411.75'},\n",
       " {'title': 'Wireless Charger', 'print': '₹1499.50', 'oprice': '₹1665.00'},\n",
       " {'title': 'Bluetooth Headphones', 'print': '₹1649.99', 'oprice': '₹1833.32'},\n",
       " {'title': 'Smart Thermostat', 'print': '₹2999.00', 'oprice': '₹3749.00'},\n",
       " {'title': 'Automatic Coffee Maker',\n",
       "  'print': '₹6299.99',\n",
       "  'oprice': '₹7411.75'},\n",
       " {'title': 'Wireless Charger', 'print': '₹1499.50', 'oprice': '₹1665.00'},\n",
       " {'title': 'Wireless Bluetooth Earbuds',\n",
       "  'print': '₹899.99',\n",
       "  'oprice': '₹999.99'}]"
      ]
     },
     "execution_count": 13,
     "metadata": {},
     "output_type": "execute_result"
    }
   ],
   "source": [
    "sc1.get_repeating_date_from_page(\n",
    "    target=target,\n",
    "    items=items,\n",
    "    title=title,\n",
    "    print=print,\n",
    "    oprice=oprice\n",
    ")   \n"
   ]
  },
  {
   "cell_type": "code",
   "execution_count": 2,
   "metadata": {},
   "outputs": [],
   "source": [
    "\n",
    "def get_items_from_flipkart(query,page=1):\n",
    "    url= f\"https://www.flipkart.com/search?q={query}&page={page}\"\n",
    "    sc2=  Scraper(url)\n",
    "    t=Tag(cls=\"DOjaWF gdgoEp\")\n",
    "    i=Tag(cls=\"slAVV4\")\n",
    "    return sc2.get_repeating_date_from_page(\n",
    "        target=t,\n",
    "        items=i,\n",
    "        image=Tag('img',cls=\"eager\",output=\"src\"),\n",
    "        link= Tag(\"a\",cls=\"VJA3rP\",output=\"href\"),\n",
    "        title=Tag(\"a\",cls=\"wjcEIp\")\n",
    "    )\n"
   ]
  },
  {
   "cell_type": "code",
   "execution_count": 3,
   "metadata": {},
   "outputs": [
    {
     "name": "stdout",
     "output_type": "stream",
     "text": [
      "Scraped 1\n",
      "Scraped 2\n",
      "Scraped 3\n",
      "Scraped 4\n",
      "Scraped 5\n",
      "Scraped 6\n",
      "Scraped 7\n",
      "Scraped 8\n",
      "Scraped 9\n",
      "Scraped 10\n",
      "Scraped 11\n",
      "Scraped 12\n",
      "Scraped 13\n",
      "Scraped 14\n",
      "Scraped 15\n",
      "Scraped 16\n",
      "Scraped 17\n",
      "Scraped 18\n",
      "Scraped 19\n",
      "Scraped 20\n",
      "Scraped 21\n",
      "Scraped 22\n",
      "Scraped 23\n",
      "Scraped 24\n",
      "Scraped 25\n",
      "Stopping, no more data\n"
     ]
    }
   ],
   "source": [
    "query=\"books\"\n",
    "page=1\n",
    "all_data=[]\n",
    "while True:\n",
    "    data= get_items_from_flipkart(query,page)\n",
    "    if len(data)>0:\n",
    "        print(f\"Scraped {page}\")\n",
    "        all_data.extend(data)\n",
    "        page+=1\n",
    "    else:\n",
    "        print('Stopping, no more data')\n",
    "        break"
   ]
  },
  {
   "cell_type": "code",
   "execution_count": 31,
   "metadata": {},
   "outputs": [
    {
     "data": {
      "text/plain": [
       "1"
      ]
     },
     "execution_count": 31,
     "metadata": {},
     "output_type": "execute_result"
    }
   ],
   "source": [
    "page"
   ]
  },
  {
   "cell_type": "code",
   "execution_count": 6,
   "metadata": {},
   "outputs": [
    {
     "data": {
      "text/html": [
       "<div>\n",
       "<style scoped>\n",
       "    .dataframe tbody tr th:only-of-type {\n",
       "        vertical-align: middle;\n",
       "    }\n",
       "\n",
       "    .dataframe tbody tr th {\n",
       "        vertical-align: top;\n",
       "    }\n",
       "\n",
       "    .dataframe thead th {\n",
       "        text-align: right;\n",
       "    }\n",
       "</style>\n",
       "<table border=\"1\" class=\"dataframe\">\n",
       "  <thead>\n",
       "    <tr style=\"text-align: right;\">\n",
       "      <th></th>\n",
       "      <th>image</th>\n",
       "      <th>link</th>\n",
       "      <th>title</th>\n",
       "    </tr>\n",
       "  </thead>\n",
       "  <tbody>\n",
       "    <tr>\n",
       "      <th>0</th>\n",
       "      <td>None</td>\n",
       "      <td>/general-practice-guide-3rd/p/itmc84c7a226abf5...</td>\n",
       "      <td>General Practice Guide 3rd Edition</td>\n",
       "    </tr>\n",
       "    <tr>\n",
       "      <th>1</th>\n",
       "      <td>None</td>\n",
       "      <td>/general-practice-guide-second/p/itmab3a685570...</td>\n",
       "      <td>General Practice Guide Second Edition</td>\n",
       "    </tr>\n",
       "    <tr>\n",
       "      <th>2</th>\n",
       "      <td>None</td>\n",
       "      <td>/maths-concept-king-all-formulas-theorum-smart...</td>\n",
       "      <td>Maths Concept King All Formulas And Theorum | ...</td>\n",
       "    </tr>\n",
       "    <tr>\n",
       "      <th>3</th>\n",
       "      <td>None</td>\n",
       "      <td>/brahmastra-complete-maths-multicolored-formul...</td>\n",
       "      <td>BRAHMASTRA Complete Maths Multicolored Formula...</td>\n",
       "    </tr>\n",
       "    <tr>\n",
       "      <th>4</th>\n",
       "      <td>None</td>\n",
       "      <td>/railway-samanya-vigyan-5000-5000-hindi-aditya...</td>\n",
       "      <td>Railway Samanya Vigyan 5000+ (????? ??????? ??...</td>\n",
       "    </tr>\n",
       "    <tr>\n",
       "      <th>...</th>\n",
       "      <td>...</td>\n",
       "      <td>...</td>\n",
       "      <td>...</td>\n",
       "    </tr>\n",
       "    <tr>\n",
       "      <th>995</th>\n",
       "      <td>None</td>\n",
       "      <td>/clinical-veterinary-medicine-latest-drug-inde...</td>\n",
       "      <td>Clinical Veterinary Medicine with Latest Drug ...</td>\n",
       "    </tr>\n",
       "    <tr>\n",
       "      <th>996</th>\n",
       "      <td>None</td>\n",
       "      <td>/pw-arjuna-jee-main-advanced-class-11th-physic...</td>\n",
       "      <td>PW Arjuna for JEE Main &amp; Advanced Class 11th P...</td>\n",
       "    </tr>\n",
       "    <tr>\n",
       "      <th>997</th>\n",
       "      <td>None</td>\n",
       "      <td>/hindi-trading-candlesticks-chart-pattern-book...</td>\n",
       "      <td>Hindi - Trading Candlesticks And Chart Pattern...</td>\n",
       "    </tr>\n",
       "    <tr>\n",
       "      <th>998</th>\n",
       "      <td>None</td>\n",
       "      <td>/utkarsh-current-affairs-2024-half-yearly-2024...</td>\n",
       "      <td>Utkarsh Current Affairs 2024| Utkarsh Current ...</td>\n",
       "    </tr>\n",
       "    <tr>\n",
       "      <th>999</th>\n",
       "      <td>None</td>\n",
       "      <td>/ncert-class-11-pcb-set-physics-part-1-2-chemi...</td>\n",
       "      <td>Ncert Class 11 Pcb Set Physics Part 1 &amp; 2 , Ch...</td>\n",
       "    </tr>\n",
       "  </tbody>\n",
       "</table>\n",
       "<p>1000 rows × 3 columns</p>\n",
       "</div>"
      ],
      "text/plain": [
       "    image                                               link  \\\n",
       "0    None  /general-practice-guide-3rd/p/itmc84c7a226abf5...   \n",
       "1    None  /general-practice-guide-second/p/itmab3a685570...   \n",
       "2    None  /maths-concept-king-all-formulas-theorum-smart...   \n",
       "3    None  /brahmastra-complete-maths-multicolored-formul...   \n",
       "4    None  /railway-samanya-vigyan-5000-5000-hindi-aditya...   \n",
       "..    ...                                                ...   \n",
       "995  None  /clinical-veterinary-medicine-latest-drug-inde...   \n",
       "996  None  /pw-arjuna-jee-main-advanced-class-11th-physic...   \n",
       "997  None  /hindi-trading-candlesticks-chart-pattern-book...   \n",
       "998  None  /utkarsh-current-affairs-2024-half-yearly-2024...   \n",
       "999  None  /ncert-class-11-pcb-set-physics-part-1-2-chemi...   \n",
       "\n",
       "                                                 title  \n",
       "0                   General Practice Guide 3rd Edition  \n",
       "1                General Practice Guide Second Edition  \n",
       "2    Maths Concept King All Formulas And Theorum | ...  \n",
       "3    BRAHMASTRA Complete Maths Multicolored Formula...  \n",
       "4    Railway Samanya Vigyan 5000+ (????? ??????? ??...  \n",
       "..                                                 ...  \n",
       "995  Clinical Veterinary Medicine with Latest Drug ...  \n",
       "996  PW Arjuna for JEE Main & Advanced Class 11th P...  \n",
       "997  Hindi - Trading Candlesticks And Chart Pattern...  \n",
       "998  Utkarsh Current Affairs 2024| Utkarsh Current ...  \n",
       "999  Ncert Class 11 Pcb Set Physics Part 1 & 2 , Ch...  \n",
       "\n",
       "[1000 rows x 3 columns]"
      ]
     },
     "execution_count": 6,
     "metadata": {},
     "output_type": "execute_result"
    }
   ],
   "source": [
    "import pandas as pd\n",
    "pd.DataFrame(all_data)"
   ]
  },
  {
   "cell_type": "markdown",
   "metadata": {},
   "source": [
    "single  page scraping\n"
   ]
  },
  {
   "cell_type": "code",
   "execution_count": 8,
   "metadata": {},
   "outputs": [
    {
     "data": {
      "text/plain": [
       "{'title': 'Maths Concept King All Formulas And Theorum | Smart Tricks | Arithmetic & Advance Maths | Bilingual | Edition 2024 | CET, SSC CGL, CPO, CHSL, MTS, CDS, UPSC |All Other Competitive Exams | Formula Book\\xa0\\xa0(Paperback, Hindi, Gagan Pratap Sir)',\n",
       " 'price': None,\n",
       " 'rating': '5,794 Ratings\\xa0&\\xa0386 Reviews'}"
      ]
     },
     "execution_count": 8,
     "metadata": {},
     "output_type": "execute_result"
    }
   ],
   "source": [
    "url=\"https://www.flipkart.com/maths-concept-king-all-formulas-theorum-smart-tricks-arithmetic-advance-bilingual-2024-cet-ssc-cgl-cpo-chsl-mts-cds-upsc-all-other-competitive-exams-formula-book/p/itm2629f92642d49?pid=RBKHYZ9SGHURAPTZ&lid=LSTRBKHYZ9SGHURAPTZZCR4AM&marketplace=FLIPKART&q=books&store=bks&spotlightTagId=BestsellerId_bks&srno=s_1_3&otracker=search&otracker1=search&fm=Search&iid=ce9d0a3f-d3cf-4df0-9b68-d66fd6022eb7.RBKHYZ9SGHURAPTZ.SEARCH&ppt=sp&ppn=sp&ssid=1qwptp3b4w0000001723897822014&qH=7d8949bcbf85067f\"\n",
    "sc3=Scraper(url)\n",
    "sc3.get_data_from_page(\n",
    "    title=Tag('span',cls=\"VU-ZEz\"),\n",
    "    price=Tag(cls= \"CxhGGNx9bqjd\"),\n",
    "    rating=Tag(\"span\",cls=\"Wphh3N\"),\n",
    "    #desc=Tag(cls=)\n",
    ")"
   ]
  },
  {
   "cell_type": "code",
   "execution_count": null,
   "metadata": {},
   "outputs": [],
   "source": []
  }
 ],
 "metadata": {
  "kernelspec": {
   "display_name": "base",
   "language": "python",
   "name": "python3"
  },
  "language_info": {
   "codemirror_mode": {
    "name": "ipython",
    "version": 3
   },
   "file_extension": ".py",
   "mimetype": "text/x-python",
   "name": "python",
   "nbconvert_exporter": "python",
   "pygments_lexer": "ipython3",
   "version": "3.12.3"
  }
 },
 "nbformat": 4,
 "nbformat_minor": 2
}
