{
 "cells": [
  {
   "cell_type": "code",
   "execution_count": 1,
   "metadata": {},
   "outputs": [],
   "source": [
    "from dputils.scrape import Scraper, Tag"
   ]
  },
  {
   "cell_type": "code",
   "execution_count": 2,
   "metadata": {},
   "outputs": [],
   "source": [
    "url=\"https://digipodium.com/mining-demo.html\"\n",
    "sc1 = Scraper(url)"
   ]
  },
  {
   "cell_type": "code",
   "execution_count": 6,
   "metadata": {},
   "outputs": [],
   "source": [
    "target = Tag('main')\n",
    "items= Tag(cls='col')\n",
    "title= Tag('h4')\n",
    "print= Tag('h1')"
   ]
  },
  {
   "cell_type": "code",
   "execution_count": 7,
   "metadata": {},
   "outputs": [
    {
     "data": {
      "text/plain": [
       "[{'title': 'LuxoWatch ', 'print': '₹5949.82'},\n",
       " {'title': 'SuperPhone X', 'print': '₹67118.07'},\n",
       " {'title': 'Miracle Blender', 'print': '₹3689.88'},\n",
       " {'title': 'Quantum Headphones', 'print': '₹9709.69'},\n",
       " {'title': 'SmartFridge', 'print': '₹89699.05'},\n",
       " {'title': 'Galactic Glasses', 'print': '₹2234.52'},\n",
       " {'title': 'PowerJuicer', 'print': '₹6651.27'},\n",
       " {'title': 'iSpectre Laptop', 'print': '₹119647.11'},\n",
       " {'title': 'HealthBand', 'print': '₹5228.64'},\n",
       " {'title': 'MaxiSound Speaker', 'print': '₹14908.25'},\n",
       " {'title': 'UltraSound Toothbrush', 'print': '₹2456.50'},\n",
       " {'title': 'SuperFit Smartwatch', 'print': '₹3679.99'},\n",
       " {'title': 'GoPro Hero 9', 'print': '₹28999.00'},\n",
       " {'title': 'AirPods Pro', 'print': '₹12780.50'},\n",
       " {'title': 'Fitness Treadmill', 'print': '₹38999.00'},\n",
       " {'title': 'Bluetooth Headphones', 'print': '₹1649.99'},\n",
       " {'title': 'Smart Thermostat', 'print': '₹2999.00'},\n",
       " {'title': 'Automatic Coffee Maker', 'print': '₹6299.99'},\n",
       " {'title': 'Wireless Charger', 'print': '₹1499.50'},\n",
       " {'title': 'Bluetooth Headphones', 'print': '₹1649.99'},\n",
       " {'title': 'Smart Thermostat', 'print': '₹2999.00'},\n",
       " {'title': 'Automatic Coffee Maker', 'print': '₹6299.99'},\n",
       " {'title': 'Wireless Charger', 'print': '₹1499.50'},\n",
       " {'title': 'Wireless Bluetooth Earbuds', 'print': '₹899.99'}]"
      ]
     },
     "execution_count": 7,
     "metadata": {},
     "output_type": "execute_result"
    }
   ],
   "source": [
    "sc1.get_repeating_date_from_page(\n",
    "    target=target,\n",
    "    items=items,\n",
    "    title=title,\n",
    "    print=print,\n",
    ")   \n"
   ]
  },
  {
   "cell_type": "code",
   "execution_count": null,
   "metadata": {},
   "outputs": [],
   "source": []
  }
 ],
 "metadata": {
  "kernelspec": {
   "display_name": "base",
   "language": "python",
   "name": "python3"
  },
  "language_info": {
   "codemirror_mode": {
    "name": "ipython",
    "version": 3
   },
   "file_extension": ".py",
   "mimetype": "text/x-python",
   "name": "python",
   "nbconvert_exporter": "python",
   "pygments_lexer": "ipython3",
   "version": "3.12.3"
  }
 },
 "nbformat": 4,
 "nbformat_minor": 2
}
