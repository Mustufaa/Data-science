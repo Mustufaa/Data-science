{
 "cells": [
  {
   "cell_type": "code",
   "execution_count": 35,
   "metadata": {},
   "outputs": [
    {
     "ename": "ValueError",
     "evalue": "invalid literal for int() with base 10: ''",
     "output_type": "error",
     "traceback": [
      "\u001b[1;31m---------------------------------------------------------------------------\u001b[0m",
      "\u001b[1;31mValueError\u001b[0m                                Traceback (most recent call last)",
      "Cell \u001b[1;32mIn[35], line 2\u001b[0m\n\u001b[0;32m      1\u001b[0m \u001b[38;5;66;03m#wap to print the multiplation table of  given number using while loop\u001b[39;00m\n\u001b[1;32m----> 2\u001b[0m num \u001b[38;5;241m=\u001b[39m \u001b[38;5;28mint\u001b[39m(\u001b[38;5;28minput\u001b[39m(\u001b[38;5;124m'\u001b[39m\u001b[38;5;124menter the number for table\u001b[39m\u001b[38;5;124m'\u001b[39m))\n\u001b[0;32m      3\u001b[0m count\u001b[38;5;241m=\u001b[39m\u001b[38;5;241m1\u001b[39m\n\u001b[0;32m      5\u001b[0m \u001b[38;5;28;01mwhile\u001b[39;00m count \u001b[38;5;241m<\u001b[39m\u001b[38;5;241m=\u001b[39m \u001b[38;5;241m10\u001b[39m:\n",
      "\u001b[1;31mValueError\u001b[0m: invalid literal for int() with base 10: ''"
     ]
    }
   ],
   "source": [
    "#wap to print the multiplation table of  given number using while loop\n",
    "num = int(input('enter the number for table'))\n",
    "count=1\n",
    "\n",
    "while count <= 10:\n",
    "    result= num * count\n",
    "    print(f'{num} * {count} = { result}' )\n",
    "    count +=1\n",
    "   "
   ]
  },
  {
   "cell_type": "code",
   "execution_count": null,
   "metadata": {},
   "outputs": [
    {
     "name": "stdout",
     "output_type": "stream",
     "text": [
      "sum of all even number\n",
      "0\n",
      "2\n",
      "6\n",
      "12\n",
      "20\n",
      "30\n",
      "42\n",
      "56\n",
      "72\n",
      "90\n",
      "110\n",
      "132\n",
      "156\n",
      "182\n",
      "210\n",
      "240\n",
      "272\n",
      "306\n",
      "342\n",
      "380\n",
      "420\n",
      "462\n",
      "506\n",
      "552\n",
      "600\n",
      "650\n",
      "702\n",
      "756\n",
      "812\n",
      "870\n",
      "930\n",
      "992\n",
      "1056\n",
      "1122\n",
      "1190\n",
      "1260\n",
      "1332\n",
      "1406\n",
      "1482\n",
      "1560\n",
      "1640\n",
      "1722\n",
      "1806\n",
      "1892\n",
      "1980\n",
      "2070\n",
      "2162\n",
      "2256\n",
      "2352\n",
      "2450\n"
     ]
    }
   ],
   "source": [
    "#wap to find sum of all even number between 1 and 100 using a for loop\n",
    "s=0\n",
    "print(\"sum of all even number\")\n",
    "for i in range(0,100):\n",
    "    if i % 2 == 0:\n",
    "        s = s + i\n",
    "        print(s)\n"
   ]
  },
  {
   "cell_type": "code",
   "execution_count": null,
   "metadata": {},
   "outputs": [
    {
     "name": "stdout",
     "output_type": "stream",
     "text": [
      " afutsum\n"
     ]
    }
   ],
   "source": [
    "#wap to reverse a given strng using a while loop\n",
    "s = input(\"enter the string\")\n",
    "count=len(s)\n",
    "revs=\" \"\n",
    "while count>0:\n",
    "    revs+=s[count-1]\n",
    "    count-=1\n",
    "\n",
    "print(revs)"
   ]
  },
  {
   "cell_type": "code",
   "execution_count": null,
   "metadata": {},
   "outputs": [
    {
     "name": "stdout",
     "output_type": "stream",
     "text": [
      "uppercase\n",
      "A B C D E F G H I J K L M N O P Q R S T U V W X Y Z "
     ]
    }
   ],
   "source": [
    "#wap to print the ASCII value of all uppercase letter using a for loop\n",
    "print(\"uppercase\")\n",
    "for i in range(65,91):\n",
    "    print(chr(i),end=\" \")\n",
    "    \n",
    "print(end='')\n"
   ]
  },
  {
   "cell_type": "code",
   "execution_count": null,
   "metadata": {},
   "outputs": [
    {
     "name": "stdout",
     "output_type": "stream",
     "text": [
      "0\n",
      "1\n",
      "1\n",
      "2\n",
      "3\n",
      "5\n",
      "8\n",
      "13\n",
      "21\n",
      "34\n",
      "55\n",
      "89\n"
     ]
    }
   ],
   "source": [
    "#wap to print the fibonacci series up to the given limit using a for loop\n",
    "a=0 \n",
    "b=1 \n",
    "print(a)\n",
    "print(b)\n",
    "for i in range(0,10):\n",
    "    c=a+b\n",
    "    a=b\n",
    "    b=c\n",
    "    print(c)"
   ]
  },
  {
   "cell_type": "markdown",
   "metadata": {},
   "source": []
  },
  {
   "cell_type": "code",
   "execution_count": null,
   "metadata": {},
   "outputs": [
    {
     "name": "stdout",
     "output_type": "stream",
     "text": [
      "Reverse string ym \n"
     ]
    }
   ],
   "source": [
    "#wap to check id a given string is palindrome or not using for loop\n",
    "sen= str(input(\"Enter the string\"))\n",
    "revs=\" \"\n",
    "for i in sen:\n",
    "    revs=i+revs\n",
    "print(\"Reverse string\",revs)\n",
    "\n",
    "if sen==revs:\n",
    "    print(\"this is palindrome string\")  \n",
    "\n",
    "\n",
    " #else:\n",
    "   # print(\"this is not palindrome string\")    "
   ]
  },
  {
   "cell_type": "code",
   "execution_count": null,
   "metadata": {},
   "outputs": [
    {
     "name": "stdout",
     "output_type": "stream",
     "text": [
      "hello  my name  is mustufa\n",
      "Number of vowels are: 8\n"
     ]
    }
   ],
   "source": [
    "#wap to  count the number of vowels in a given string using a for loop\n",
    "string = str(input(\"Enter the string\"))\n",
    "print(string)\n",
    "vowels =0\n",
    "#print(string.count(\"a\"),string.count('e'),string.count('i'),string.count('o'),string.count('u'))\n",
    "#print(string.count('e'))\n",
    "#print(string.count('i'))\n",
    "#print(string.count('o'))\n",
    "#print(string.count('u'))\n",
    "for i in string:\n",
    "    if i=='a' or i=='e' or  i=='i' or i=='o' or i=='u':\n",
    "        vowels=vowels+1\n",
    "print('Number of vowels are:',vowels)\n",
    "\n"
   ]
  },
  {
   "cell_type": "code",
   "execution_count": null,
   "metadata": {},
   "outputs": [
    {
     "name": "stdout",
     "output_type": "stream",
     "text": [
      "800\n",
      "20\n"
     ]
    }
   ],
   "source": [
    "#wap to find the largest element in an array using a for loop\n",
    "#wap to find the largest and smallest element in an array using a for loop\n",
    "\n",
    "arr=[20,30,800,100,500,]\n",
    "largest=arr[0]\n",
    "smallest=arr[0]\n",
    "for i in arr:\n",
    "    if  i>largest:\n",
    "        largest=i\n",
    "    if i<smallest:\n",
    "        smallest=i\n",
    "\n",
    "print(largest)\n",
    "print(smallest)\n",
    "\n",
    "\n",
    "\n"
   ]
  },
  {
   "cell_type": "code",
   "execution_count": null,
   "metadata": {},
   "outputs": [
    {
     "name": "stdout",
     "output_type": "stream",
     "text": [
      "factorial of 5=120\n"
     ]
    }
   ],
   "source": [
    "#wap to find the factorial of a number using for loop\n",
    "num=int(input(\"enter the number\"))\n",
    "fact=1\n",
    "n=num\n",
    "for i in range(1,n+1):\n",
    "    fact=fact*i\n",
    "    #fact+=1 (not correct answer)\n",
    "print(f'factorial of {num}={fact}')"
   ]
  },
  {
   "cell_type": "markdown",
   "metadata": {},
   "source": [
    "# String"
   ]
  },
  {
   "cell_type": "code",
   "execution_count": null,
   "metadata": {},
   "outputs": [
    {
     "name": "stdout",
     "output_type": "stream",
     "text": [
      "python is everywhere\n"
     ]
    }
   ],
   "source": [
    "sentence=str(input('Enter the string'))\n",
    "print(sentence)"
   ]
  },
  {
   "cell_type": "code",
   "execution_count": null,
   "metadata": {},
   "outputs": [
    {
     "data": {
      "text/plain": [
       "'great'"
      ]
     },
     "execution_count": 5,
     "metadata": {},
     "output_type": "execute_result"
    }
   ],
   "source": [
    "sentence.split()[-1]\n"
   ]
  },
  {
   "cell_type": "code",
   "execution_count": null,
   "metadata": {},
   "outputs": [
    {
     "data": {
      "text/plain": [
       "['python is great']"
      ]
     },
     "execution_count": 7,
     "metadata": {},
     "output_type": "execute_result"
    }
   ],
   "source": [
    "sentence.split(\"/n\")"
   ]
  },
  {
   "cell_type": "code",
   "execution_count": null,
   "metadata": {},
   "outputs": [
    {
     "name": "stdout",
     "output_type": "stream",
     "text": [
      "python\n",
      "is\n",
      "everywhere\n"
     ]
    }
   ],
   "source": [
    "words= sentence.split()\n",
    "for word in words:\n",
    "    print(word)"
   ]
  },
  {
   "cell_type": "code",
   "execution_count": null,
   "metadata": {},
   "outputs": [
    {
     "data": {
      "text/plain": [
       "'python is eassy to learn'"
      ]
     },
     "execution_count": 13,
     "metadata": {},
     "output_type": "execute_result"
    }
   ],
   "source": [
    "list=['python','is','eassy','to','learn']\n",
    "#newsen=\" \"    for x in list:   newsen +=' '+x   print(newsen)\n",
    "' '.join(list)"
   ]
  },
  {
   "cell_type": "code",
   "execution_count": null,
   "metadata": {},
   "outputs": [
    {
     "name": "stdout",
     "output_type": "stream",
     "text": [
      "g wagon,  \n",
      "defender,\n",
      "land cruser\n"
     ]
    }
   ],
   "source": [
    "my_string='''g wagon,  \n",
    "defender,\n",
    "land cruser'''\n",
    "print(my_string)"
   ]
  },
  {
   "cell_type": "code",
   "execution_count": null,
   "metadata": {},
   "outputs": [
    {
     "name": "stdout",
     "output_type": "stream",
     "text": [
      "g wagon,\n",
      "defender,\n",
      "land cruser\n"
     ]
    }
   ],
   "source": [
    "my_string='''g wagon,\n",
    "defender,\n",
    "land cruser'''\n",
    "line=my_string.split(\",\")\n",
    "print(\",\".join(line))"
   ]
  },
  {
   "cell_type": "code",
   "execution_count": 36,
   "metadata": {},
   "outputs": [
    {
     "name": "stdout",
     "output_type": "stream",
     "text": [
      "the variable is 15\n"
     ]
    }
   ],
   "source": [
    "v=15\n",
    "print(f'the variable is {v}')\n",
    " "
   ]
  },
  {
   "cell_type": "code",
   "execution_count": null,
   "metadata": {},
   "outputs": [
    {
     "name": "stdout",
     "output_type": "stream",
     "text": [
      "# \n",
      "# \n",
      "# \n",
      "# \n",
      "# \n",
      "# \n",
      "# \n",
      "# \n",
      "# \n",
      "# \n",
      "# \n",
      "# \n",
      "# \n",
      "# \n",
      "# \n",
      "# \n",
      "# \n",
      "# \n",
      "# \n",
      "# \n",
      "\n"
     ]
    }
   ],
   "source": [
    "print('# \\n' * 20)"
   ]
  },
  {
   "cell_type": "code",
   "execution_count": null,
   "metadata": {},
   "outputs": [
    {
     "name": "stdout",
     "output_type": "stream",
     "text": [
      "1. \n",
      "2. \n",
      "3. \n",
      "4. \n",
      "5. \n",
      "6. \n",
      "7. \n",
      "8. \n",
      "9. \n"
     ]
    }
   ],
   "source": [
    "for i in range(1,10):\n",
    "    print(f'{i}. ')"
   ]
  },
  {
   "cell_type": "code",
   "execution_count": 42,
   "metadata": {},
   "outputs": [
    {
     "name": "stdout",
     "output_type": "stream",
     "text": [
      "ranbow\n",
      "is\n",
      "beautifull\n"
     ]
    }
   ],
   "source": [
    "new_sentence=input('enter the string')\n",
    "words = new_sentence.split()\n",
    "for word in words:\n",
    "    print(word)\n"
   ]
  },
  {
   "cell_type": "code",
   "execution_count": null,
   "metadata": {},
   "outputs": [],
   "source": []
  },
  {
   "cell_type": "code",
   "execution_count": 14,
   "metadata": {},
   "outputs": [
    {
     "name": "stdout",
     "output_type": "stream",
     "text": [
      "1\n"
     ]
    }
   ],
   "source": [
    "s=input('enter the string')\n",
    "#print(s.endswith('?'))\n",
    "print(s.count('e'))"
   ]
  },
  {
   "cell_type": "code",
   "execution_count": 21,
   "metadata": {},
   "outputs": [
    {
     "name": "stdout",
     "output_type": "stream",
     "text": [
      "the og string: hello world\n",
      "yes uppercase letter is availabe: False\n"
     ]
    }
   ],
   "source": [
    "s=input('enter the string')\n",
    "print(f'the og string:',str(s))\n",
    "rs=False\n",
    "for i in s:\n",
    "    if i.isupper():\n",
    "        rs=True\n",
    "        break\n",
    "\n",
    "print('yes uppercase letter is availabe:',str(rs))"
   ]
  },
  {
   "cell_type": "code",
   "execution_count": 35,
   "metadata": {},
   "outputs": [
    {
     "name": "stdout",
     "output_type": "stream",
     "text": [
      "['alfaiz,iqra,zoya,ubaid']\n"
     ]
    }
   ],
   "source": [
    "name='alfaiz,iqra,zoya,ubaid'\n",
    "print(name.split())\n"
   ]
  },
  {
   "cell_type": "code",
   "execution_count": 2,
   "metadata": {},
   "outputs": [
    {
     "name": "stdout",
     "output_type": "stream",
     "text": [
      "bjbvskh3529JGGLUKGUGR\n"
     ]
    }
   ],
   "source": [
    "text=input('enter the string')\n",
    "new_text=''.join(letter for letter in text if letter.isalnum() )\n",
    "print(new_text)"
   ]
  },
  {
   "cell_type": "code",
   "execution_count": 10,
   "metadata": {},
   "outputs": [
    {
     "ename": "TypeError",
     "evalue": "'int' object is not iterable",
     "output_type": "error",
     "traceback": [
      "\u001b[1;31m---------------------------------------------------------------------------\u001b[0m",
      "\u001b[1;31mTypeError\u001b[0m                                 Traceback (most recent call last)",
      "Cell \u001b[1;32mIn[10], line 4\u001b[0m\n\u001b[0;32m      2\u001b[0m words\u001b[38;5;241m=\u001b[39mtext\u001b[38;5;241m.\u001b[39msplit()\n\u001b[0;32m      3\u001b[0m l\u001b[38;5;241m=\u001b[39m\u001b[38;5;28mlen\u001b[39m(words)\n\u001b[1;32m----> 4\u001b[0m total_text\u001b[38;5;241m=\u001b[39m\u001b[38;5;28msum\u001b[39m(l)\n\u001b[0;32m      5\u001b[0m \u001b[38;5;28;01mfor\u001b[39;00m word \u001b[38;5;129;01min\u001b[39;00m words:\n\u001b[0;32m      6\u001b[0m     a \u001b[38;5;241m=\u001b[39mtotal_text\u001b[38;5;241m/\u001b[39ml\n",
      "\u001b[1;31mTypeError\u001b[0m: 'int' object is not iterable"
     ]
    }
   ],
   "source": [
    "text='this is s paragraphs which is written just for the purpose of providing content to let the average word length be calculated'\n",
    "words=text.split()\n",
    "l=len(words)\n",
    "total_text=sum(l)\n",
    "for word in words:\n",
    "    a =total_text/l\n",
    "    print(a)"
   ]
  },
  {
   "cell_type": "code",
   "execution_count": 15,
   "metadata": {},
   "outputs": [
    {
     "name": "stdout",
     "output_type": "stream",
     "text": [
      "4.681818181818182\n"
     ]
    }
   ],
   "source": [
    "text='this is s paragraphs which is written just for the purpose of providing content to let the average word length be calculated'\n",
    "words=text.split()\n",
    "total_text=sum(map(len,words))/len(words)\n",
    "\n",
    "print(total_text)"
   ]
  },
  {
   "cell_type": "markdown",
   "metadata": {},
   "source": [
    "List\n"
   ]
  },
  {
   "cell_type": "code",
   "execution_count": 21,
   "metadata": {},
   "outputs": [
    {
     "name": "stdout",
     "output_type": "stream",
     "text": [
      "list: [12, 23, 25, 26, 24]\n"
     ]
    }
   ],
   "source": [
    "n=int(input('enter the numbers'))\n",
    "list =[]\n",
    "for i in range(n):\n",
    "    x=int(input())\n",
    "    list.append(x)\n",
    "\n",
    "print('list:',list)\n",
    "\n"
   ]
  },
  {
   "cell_type": "code",
   "execution_count": 26,
   "metadata": {},
   "outputs": [
    {
     "name": "stdout",
     "output_type": "stream",
     "text": [
      "list: [10, 20, 30, 40, 50, 60, 70, 80, 90, 100]\n",
      "n: 60\n",
      "element found\n"
     ]
    }
   ],
   "source": [
    "list=[10,20,30,40,50,60,70,80,90,100,]\n",
    "n=int(input('enter the number'))\n",
    "print('list:',list)\n",
    "print('n:',n)\n",
    "if n in list:\n",
    "    print('element found')\n",
    "else:\n",
    "    print('element not found')"
   ]
  },
  {
   "cell_type": "code",
   "execution_count": null,
   "metadata": {},
   "outputs": [],
   "source": []
  }
 ],
 "metadata": {
  "kernelspec": {
   "display_name": "base",
   "language": "python",
   "name": "python3"
  },
  "language_info": {
   "codemirror_mode": {
    "name": "ipython",
    "version": 3
   },
   "file_extension": ".py",
   "mimetype": "text/x-python",
   "name": "python",
   "nbconvert_exporter": "python",
   "pygments_lexer": "ipython3",
   "version": "3.12.3"
  }
 },
 "nbformat": 4,
 "nbformat_minor": 2
}
