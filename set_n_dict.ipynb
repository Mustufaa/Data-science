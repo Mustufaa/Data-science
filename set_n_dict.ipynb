{
 "cells": [
  {
   "cell_type": "markdown",
   "metadata": {},
   "source": [
    "##Set\n",
    "- create\n",
    "- method"
   ]
  },
  {
   "cell_type": "code",
   "execution_count": 12,
   "metadata": {},
   "outputs": [
    {
     "name": "stdout",
     "output_type": "stream",
     "text": [
      "set()\n",
      "{1, 2, 3, 4, 5, 6, 7, 8, 9, 10}\n",
      "{'cherry', 'banana', 'apple'}\n",
      "{3.14, 205, 'apple', 'banana'}\n",
      "{1, 2, 3, 4, 5, 6, 7, 8, 9, 10}\n",
      "{'t', 'e', 'r', ' ', 'y', 'h', 'p', 'o'}\n"
     ]
    }
   ],
   "source": [
    "x= set()\n",
    "print(x)\n",
    "y={1,2,3,4,5,6,7,8,9,10}\n",
    "print(y)\n",
    "fruits={'apple','banana','cherry'}\n",
    "print(fruits)\n",
    "data={'apple',205,3.14,'banana'}\n",
    "print(data)\n",
    "a=set([1,2,3,4,5,6,7,8,9,10])\n",
    "b=set('herry potter')\n",
    "print(a)\n",
    "print(b)"
   ]
  },
  {
   "cell_type": "code",
   "execution_count": 13,
   "metadata": {},
   "outputs": [
    {
     "name": "stdout",
     "output_type": "stream",
     "text": [
      "{'third', 'first', 'second'}\n"
     ]
    }
   ],
   "source": [
    "a= set()\n",
    "a.add(\"first\")\n",
    "a.add(\"second\")\n",
    "a.add(\"third\")\n",
    "print(a)"
   ]
  },
  {
   "cell_type": "code",
   "execution_count": 16,
   "metadata": {},
   "outputs": [
    {
     "name": "stdout",
     "output_type": "stream",
     "text": [
      "{'third', 'appleseed', 'first', 'applecider', 'second', 'applepie'}\n"
     ]
    }
   ],
   "source": [
    "a.update(['appleseed','applepie','applecider'])\n",
    "print(a)"
   ]
  },
  {
   "cell_type": "code",
   "execution_count": 17,
   "metadata": {},
   "outputs": [
    {
     "name": "stdout",
     "output_type": "stream",
     "text": [
      "{'third', 'appleseed', 'first', 'applecider', 'second', 'applepie'}\n"
     ]
    }
   ],
   "source": [
    "a.add(\"appleseed\")\n",
    "print(a)"
   ]
  },
  {
   "cell_type": "code",
   "execution_count": 18,
   "metadata": {},
   "outputs": [
    {
     "name": "stdout",
     "output_type": "stream",
     "text": [
      "{'third', 'first', 'applecider', 'second'}\n"
     ]
    }
   ],
   "source": [
    "a.discard('appleseed')\n",
    "a.discard('applepie')\n",
    "a.discard('appleseed')\n",
    "print(a)"
   ]
  },
  {
   "cell_type": "code",
   "execution_count": 21,
   "metadata": {},
   "outputs": [
    {
     "name": "stdout",
     "output_type": "stream",
     "text": [
      "{1, 2, 3, 4, 5}\n",
      "{1, 2, 3, 4, 5, 6, 7, 8}\n",
      "{1, 2, 3, 4, 5, 6, 7, 8}\n"
     ]
    }
   ],
   "source": [
    "a={1,2,3}\n",
    "b={3,4,5}\n",
    "c={6,7,8}\n",
    "ab=a.union(b)\n",
    "print(ab)\n",
    "\n",
    "print(a.union(b,c))\n",
    "print(a|b|c) # | is union"
   ]
  },
  {
   "cell_type": "code",
   "execution_count": 22,
   "metadata": {},
   "outputs": [
    {
     "name": "stdout",
     "output_type": "stream",
     "text": [
      "{3}\n",
      "{3}\n",
      "set()\n",
      "set()\n"
     ]
    }
   ],
   "source": [
    "print(a.intersection(b))\n",
    "print(a & b) #& is intersection\n",
    "print(a & c)\n",
    "print(a & b & c)"
   ]
  },
  {
   "cell_type": "code",
   "execution_count": 24,
   "metadata": {},
   "outputs": [
    {
     "name": "stdout",
     "output_type": "stream",
     "text": [
      "{1, 2}\n",
      "{4, 5}\n",
      "{1, 2}\n",
      "{1, 2, 3}\n"
     ]
    }
   ],
   "source": [
    "print(a.difference(b))\n",
    "print(b.difference(a))\n",
    "print(a-b) # - is difference\n",
    "print(a-c)"
   ]
  },
  {
   "cell_type": "code",
   "execution_count": 25,
   "metadata": {},
   "outputs": [
    {
     "name": "stdout",
     "output_type": "stream",
     "text": [
      "{1, 2, 4, 5}\n",
      "{1, 2, 4, 5}\n"
     ]
    }
   ],
   "source": [
    "print(a.symmetric_difference(b))\n",
    "print(a^b) # ^ is symmetric difference"
   ]
  },
  {
   "cell_type": "code",
   "execution_count": null,
   "metadata": {},
   "outputs": [],
   "source": []
  }
 ],
 "metadata": {
  "kernelspec": {
   "display_name": "base",
   "language": "python",
   "name": "python3"
  },
  "language_info": {
   "codemirror_mode": {
    "name": "ipython",
    "version": 3
   },
   "file_extension": ".py",
   "mimetype": "text/x-python",
   "name": "python",
   "nbconvert_exporter": "python",
   "pygments_lexer": "ipython3",
   "version": "3.12.3"
  }
 },
 "nbformat": 4,
 "nbformat_minor": 2
}
