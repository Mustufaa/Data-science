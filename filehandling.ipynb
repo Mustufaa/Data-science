{
 "cells": [
  {
   "cell_type": "code",
   "execution_count": 9,
   "metadata": {},
   "outputs": [],
   "source": [
    "import os"
   ]
  },
  {
   "cell_type": "code",
   "execution_count": 10,
   "metadata": {},
   "outputs": [
    {
     "name": "stdout",
     "output_type": "stream",
     "text": [
      "c:\\Users\\lenovo\\OneDrive\\Documents\\Data science\n"
     ]
    }
   ],
   "source": [
    "BASE_DIR = os.getcwd()\n",
    "print(BASE_DIR)"
   ]
  },
  {
   "cell_type": "code",
   "execution_count": 11,
   "metadata": {},
   "outputs": [
    {
     "name": "stdout",
     "output_type": "stream",
     "text": [
      "['.git', 'basics.ipynb', 'file.txt', 'filehandling.ipynb', 'function.ipynb', 'io.ipynb', 'kahani.py', 'kahani_return.py', 'list.ipynb', 'loops.ipynb', 'practice.ipynb', 'set_n_dict.ipynb', 'story.txt', 'string.ipynb']\n"
     ]
    }
   ],
   "source": [
    "content= os.listdir()\n",
    "print(content)"
   ]
  },
  {
   "cell_type": "code",
   "execution_count": 12,
   "metadata": {},
   "outputs": [
    {
     "name": "stdout",
     "output_type": "stream",
     "text": [
      "total content:29\n"
     ]
    }
   ],
   "source": [
    "addr = r'C:\\Program Files'\n",
    "content=os.listdir(addr)\n",
    "print(f'total content:{len(content)}')"
   ]
  },
  {
   "cell_type": "code",
   "execution_count": 13,
   "metadata": {},
   "outputs": [
    {
     "data": {
      "text/plain": [
       "['C:\\\\', 'D:\\\\', 'F:\\\\']"
      ]
     },
     "execution_count": 13,
     "metadata": {},
     "output_type": "execute_result"
    }
   ],
   "source": [
    "os.listdrives()"
   ]
  },
  {
   "cell_type": "code",
   "execution_count": 14,
   "metadata": {},
   "outputs": [
    {
     "name": "stdout",
     "output_type": "stream",
     "text": [
      "['$RECYCLE.BIN', 'mynotes', 'ProgramData', 'System Volume Information', 'Wondershare']\n"
     ]
    }
   ],
   "source": [
    "os.chdir('D:')\n",
    "print(os.listdir())\n"
   ]
  },
  {
   "cell_type": "code",
   "execution_count": 15,
   "metadata": {},
   "outputs": [
    {
     "data": {
      "text/plain": [
       "'D:\\\\'"
      ]
     },
     "execution_count": 15,
     "metadata": {},
     "output_type": "execute_result"
    }
   ],
   "source": [
    "os.getcwd()"
   ]
  },
  {
   "cell_type": "code",
   "execution_count": 16,
   "metadata": {},
   "outputs": [],
   "source": [
    "os.makedirs('mynotes', exist_ok=True)"
   ]
  },
  {
   "cell_type": "markdown",
   "metadata": {},
   "source": [
    "# python file handling\n",
    "'open()' - open file resource and return a file object.\n",
    "- modes\n",
    "    - 'f'-read modes(default)\n",
    "    - 'w'- write mode\n",
    "    - 'a'- append mode"
   ]
  },
  {
   "cell_type": "code",
   "execution_count": 17,
   "metadata": {},
   "outputs": [],
   "source": [
    "with open('mynotes/notes1.txt','w') as f:\n",
    "    f.write(\"hello:\\n\")\n",
    "    f.write(\"first:\\n\")\n",
    "    f.write(\"notes:\\n\")"
   ]
  },
  {
   "cell_type": "code",
   "execution_count": 18,
   "metadata": {},
   "outputs": [],
   "source": [
    "with open('mynotes/notes1.txt','a') as f:\n",
    "    f.write(\"maths:\\n\")\n",
    "    f.write(\"physics:\\n\")\n",
    "    f.write(\"chemistry:\\n\")"
   ]
  },
  {
   "cell_type": "code",
   "execution_count": 19,
   "metadata": {},
   "outputs": [
    {
     "name": "stdout",
     "output_type": "stream",
     "text": [
      "hello:\n",
      "first:\n",
      "notes:\n",
      "maths:\n",
      "physics:\n",
      "chemistry:\n",
      "\n"
     ]
    }
   ],
   "source": [
    "with open('mynotes/notes1.txt') as file:\n",
    "    data= file.read()\n",
    "\n",
    "print(data)"
   ]
  },
  {
   "cell_type": "code",
   "execution_count": 20,
   "metadata": {},
   "outputs": [
    {
     "name": "stdout",
     "output_type": "stream",
     "text": [
      "kahani = \"\"\n",
      "while True:\n",
      "    data = input('Enter a story=>')\n",
      "    if len(data) == 0:\n",
      "        print(\"the end!\")\n",
      "        break\n",
      "    kahani += data + \"\\n\"\n",
      "print(\"the real story:\")\n",
      "print(kahani)\n",
      "\n"
     ]
    }
   ],
   "source": [
    "with open(r'C:\\Users\\lenovo\\OneDrive\\Documents\\Data science\\kahani.py')as f:\n",
    "    data= f.read()\n",
    "    \n",
    "print(data)"
   ]
  },
  {
   "cell_type": "code",
   "execution_count": 37,
   "metadata": {},
   "outputs": [
    {
     "ename": "AttributeError",
     "evalue": "'str' object has no attribute 'endwith'",
     "output_type": "error",
     "traceback": [
      "\u001b[1;31m---------------------------------------------------------------------------\u001b[0m",
      "\u001b[1;31mAttributeError\u001b[0m                            Traceback (most recent call last)",
      "Cell \u001b[1;32mIn[37], line 2\u001b[0m\n\u001b[0;32m      1\u001b[0m items\u001b[38;5;241m=\u001b[39m os\u001b[38;5;241m.\u001b[39mlistdir(\u001b[38;5;124mr\u001b[39m\u001b[38;5;124m'\u001b[39m\u001b[38;5;124mC:\u001b[39m\u001b[38;5;124m\\\u001b[39m\u001b[38;5;124mUsers\u001b[39m\u001b[38;5;124m\\\u001b[39m\u001b[38;5;124mlenovo\u001b[39m\u001b[38;5;124m\\\u001b[39m\u001b[38;5;124mDownloads\u001b[39m\u001b[38;5;124m'\u001b[39m)\n\u001b[1;32m----> 2\u001b[0m pdfs\u001b[38;5;241m=\u001b[39m\u001b[38;5;28mlist\u001b[39m(\u001b[38;5;28mfilter\u001b[39m(\u001b[38;5;28;01mlambda\u001b[39;00m file: file\u001b[38;5;241m.\u001b[39mendwith(\u001b[38;5;124m'\u001b[39m\u001b[38;5;124m.pdf\u001b[39m\u001b[38;5;124m'\u001b[39m), items))\n\u001b[0;32m      3\u001b[0m \u001b[38;5;28mprint\u001b[39m(pdfs)\n",
      "Cell \u001b[1;32mIn[37], line 2\u001b[0m, in \u001b[0;36m<lambda>\u001b[1;34m(file)\u001b[0m\n\u001b[0;32m      1\u001b[0m items\u001b[38;5;241m=\u001b[39m os\u001b[38;5;241m.\u001b[39mlistdir(\u001b[38;5;124mr\u001b[39m\u001b[38;5;124m'\u001b[39m\u001b[38;5;124mC:\u001b[39m\u001b[38;5;124m\\\u001b[39m\u001b[38;5;124mUsers\u001b[39m\u001b[38;5;124m\\\u001b[39m\u001b[38;5;124mlenovo\u001b[39m\u001b[38;5;124m\\\u001b[39m\u001b[38;5;124mDownloads\u001b[39m\u001b[38;5;124m'\u001b[39m)\n\u001b[1;32m----> 2\u001b[0m pdfs\u001b[38;5;241m=\u001b[39m\u001b[38;5;28mlist\u001b[39m(\u001b[38;5;28mfilter\u001b[39m(\u001b[38;5;28;01mlambda\u001b[39;00m file: file\u001b[38;5;241m.\u001b[39mendwith(\u001b[38;5;124m'\u001b[39m\u001b[38;5;124m.pdf\u001b[39m\u001b[38;5;124m'\u001b[39m), items))\n\u001b[0;32m      3\u001b[0m \u001b[38;5;28mprint\u001b[39m(pdfs)\n",
      "\u001b[1;31mAttributeError\u001b[0m: 'str' object has no attribute 'endwith'"
     ]
    }
   ],
   "source": [
    "items= os.listdir(r'C:\\Users\\lenovo\\Downloads')\n",
    "pdfs=list(filter(lambda file: file.endwith('.pdf'), items))\n",
    "print(pdfs)"
   ]
  },
  {
   "cell_type": "code",
   "execution_count": 36,
   "metadata": {},
   "outputs": [
    {
     "ename": "SyntaxError",
     "evalue": "(unicode error) 'unicodeescape' codec can't decode bytes in position 2-3: truncated \\UXXXXXXXX escape (2887762269.py, line 2)",
     "output_type": "error",
     "traceback": [
      "\u001b[1;36m  Cell \u001b[1;32mIn[36], line 2\u001b[1;36m\u001b[0m\n\u001b[1;33m    path=f'C:\\Users\\lenovo\\Downloads{file}'\u001b[0m\n\u001b[1;37m                                          ^\u001b[0m\n\u001b[1;31mSyntaxError\u001b[0m\u001b[1;31m:\u001b[0m (unicode error) 'unicodeescape' codec can't decode bytes in position 2-3: truncated \\UXXXXXXXX escape\n"
     ]
    }
   ],
   "source": [
    "for file in pdfs:\n",
    "    path=f'C:\\Users\\lenovo\\Downloads{file}'\n",
    "    size=os.path.getsize(path)\n",
    "    print(f'{file:50}{size/1024:.2f} KB')"
   ]
  },
  {
   "cell_type": "code",
   "execution_count": 35,
   "metadata": {},
   "outputs": [
    {
     "name": "stdout",
     "output_type": "stream",
     "text": [
      "['1. 15,16thJuly AI July 2023 Batch.pdf']\n"
     ]
    }
   ],
   "source": [
    "import os\n",
    "\n",
    "directory = r'C:\\Users\\lenovo\\Downloads'\n",
    "items = os.listdir(directory)\n",
    "\n",
    "# Use list comprehension to filter for PDF files\n",
    "pdfs = [file for file in items if file.endswith('.pdf')]\n",
    "\n",
    "print(pdfs)\n"
   ]
  },
  {
   "cell_type": "code",
   "execution_count": 38,
   "metadata": {},
   "outputs": [
    {
     "name": "stdout",
     "output_type": "stream",
     "text": [
      "1. 15,16thJuly AI July 2023 Batch.pdf              69.09 KB\n"
     ]
    }
   ],
   "source": [
    "import os\n",
    "\n",
    "directory = r'C:\\Users\\lenovo\\Downloads'\n",
    "pdfs = [file for file in os.listdir(directory) if file.endswith('.pdf')]\n",
    "\n",
    "for file in pdfs:\n",
    "    path = os.path.join(directory, file)  # Correctly join directory and file name\n",
    "    size = os.path.getsize(path)  # Get file size in bytes\n",
    "    size_kb = size / 1024  # Convert bytes to kilobytes\n",
    "    print(f'{file:50} {size_kb:.2f} KB')\n"
   ]
  },
  {
   "cell_type": "code",
   "execution_count": null,
   "metadata": {},
   "outputs": [],
   "source": []
  }
 ],
 "metadata": {
  "kernelspec": {
   "display_name": "base",
   "language": "python",
   "name": "python3"
  },
  "language_info": {
   "codemirror_mode": {
    "name": "ipython",
    "version": 3
   },
   "file_extension": ".py",
   "mimetype": "text/x-python",
   "name": "python",
   "nbconvert_exporter": "python",
   "pygments_lexer": "ipython3",
   "version": "3.12.3"
  }
 },
 "nbformat": 4,
 "nbformat_minor": 2
}
