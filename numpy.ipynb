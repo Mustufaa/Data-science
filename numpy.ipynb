{
 "cells": [
  {
   "cell_type": "code",
   "execution_count": 1,
   "metadata": {},
   "outputs": [],
   "source": [
    "import numpy as np"
   ]
  },
  {
   "cell_type": "markdown",
   "metadata": {},
   "source": [
    "- create\n",
    "- basic operation\n",
    "- math operation\n",
    "- indexing and slicing\n",
    "- boolean  filter"
   ]
  },
  {
   "cell_type": "code",
   "execution_count": 3,
   "metadata": {},
   "outputs": [
    {
     "name": "stdout",
     "output_type": "stream",
     "text": [
      "[1 2 3 4 5]\n"
     ]
    }
   ],
   "source": [
    "x= np.array([1,2,3,4,5])\n",
    "print(x)"
   ]
  },
  {
   "cell_type": "code",
   "execution_count": 5,
   "metadata": {},
   "outputs": [
    {
     "name": "stdout",
     "output_type": "stream",
     "text": [
      "[[1 2 3]\n",
      " [4 5 6]]\n",
      "(2, 3)\n"
     ]
    }
   ],
   "source": [
    "a= np.array([[1,2,3],[4,5,6]])\n",
    "print(a)\n",
    "print(a.shape)"
   ]
  },
  {
   "cell_type": "code",
   "execution_count": 6,
   "metadata": {},
   "outputs": [
    {
     "name": "stdout",
     "output_type": "stream",
     "text": [
      "[[1 2 3]\n",
      " [4 5 6]\n",
      " [7 8 9]]\n",
      "(3, 3)\n"
     ]
    }
   ],
   "source": [
    "a= np.array([[1,2,3],[4,5,6],[7,8,9]])\n",
    "print(a)\n",
    "print(a.shape)"
   ]
  },
  {
   "cell_type": "code",
   "execution_count": 8,
   "metadata": {},
   "outputs": [
    {
     "name": "stdout",
     "output_type": "stream",
     "text": [
      "[[0 1 2 3 4 5 6 7 8 9]\n",
      " [0 1 2 3 4 5 6 7 8 9]\n",
      " [0 1 2 3 4 5 6 7 8 9]\n",
      " [0 1 2 3 4 5 6 7 8 9]\n",
      " [0 1 2 3 4 5 6 7 8 9]\n",
      " [0 1 2 3 4 5 6 7 8 9]\n",
      " [0 1 2 3 4 5 6 7 8 9]\n",
      " [0 1 2 3 4 5 6 7 8 9]\n",
      " [0 1 2 3 4 5 6 7 8 9]\n",
      " [0 1 2 3 4 5 6 7 8 9]]\n",
      "(10, 10)\n"
     ]
    }
   ],
   "source": [
    "z=[0,1,2,3,4,5,6,7,8,9]\n",
    "nz= np.array([z,z,z,z,z,z,z,z,z,z])\n",
    "print(nz)\n",
    "print(nz.shape)"
   ]
  },
  {
   "cell_type": "code",
   "execution_count": 11,
   "metadata": {},
   "outputs": [
    {
     "name": "stdout",
     "output_type": "stream",
     "text": [
      "[[0 1 2 3 4 5 6 7 8 9]\n",
      " [0 1 2 3 4 5 6 7 8 9]\n",
      " [0 1 2 3 4 5 6 7 8 9]\n",
      " [0 1 2 3 4 5 6 7 8 9]\n",
      " [0 1 2 3 4 5 6 7 8 9]\n",
      " [0 1 2 3 4 5 6 7 8 9]\n",
      " [0 1 2 3 4 5 6 7 8 9]\n",
      " [0 1 2 3 4 5 6 7 8 9]\n",
      " [0 1 2 3 4 5 6 7 8 9]\n",
      " [0 1 2 3 4 5 6 7 8 9]]\n",
      "(10, 10)\n"
     ]
    }
   ],
   "source": [
    "z=[0,1,2,3,4,5,6,7,8,9]\n",
    "nz= np.array([z]*10)\n",
    "print(nz)\n",
    "print(nz.shape)"
   ]
  },
  {
   "cell_type": "markdown",
   "metadata": {},
   "source": [
    "- random\n",
    "- arange\n",
    "- linspace"
   ]
  },
  {
   "cell_type": "code",
   "execution_count": 12,
   "metadata": {},
   "outputs": [
    {
     "data": {
      "text/plain": [
       "array([[0.47715198, 0.13013952, 0.64309293],\n",
       "       [0.0172022 , 0.01108371, 0.36275539],\n",
       "       [0.18244985, 0.05709687, 0.10040798]])"
      ]
     },
     "execution_count": 12,
     "metadata": {},
     "output_type": "execute_result"
    }
   ],
   "source": [
    "np.random.rand(3,3)"
   ]
  },
  {
   "cell_type": "code",
   "execution_count": 15,
   "metadata": {},
   "outputs": [
    {
     "name": "stdout",
     "output_type": "stream",
     "text": [
      "[[-2  3  3 -5 -3]\n",
      " [-1  4 -2  5  5]\n",
      " [-1  1 -5  5 -2]\n",
      " [-4 -4 -5  5 -2]\n",
      " [ 0 -1 -3  0 -5]]\n"
     ]
    }
   ],
   "source": [
    "r1=np.random.randint(-5,6,(5,5))\n",
    "print(r1)"
   ]
  },
  {
   "cell_type": "code",
   "execution_count": 21,
   "metadata": {},
   "outputs": [
    {
     "data": {
      "text/plain": [
       "array([ 0,  2,  4,  6,  8, 10, 12, 14, 16, 18, 20, 22, 24, 26, 28, 30, 32,\n",
       "       34, 36, 38, 40, 42, 44, 46, 48])"
      ]
     },
     "execution_count": 21,
     "metadata": {},
     "output_type": "execute_result"
    }
   ],
   "source": [
    "#start,stop, gap\n",
    "np.arange(0,50,2)"
   ]
  },
  {
   "cell_type": "code",
   "execution_count": 24,
   "metadata": {},
   "outputs": [
    {
     "data": {
      "text/plain": [
       "array([ 0.        ,  5.55555556, 11.11111111, 16.66666667, 22.22222222,\n",
       "       27.77777778, 33.33333333, 38.88888889, 44.44444444, 50.        ])"
      ]
     },
     "execution_count": 24,
     "metadata": {},
     "output_type": "execute_result"
    }
   ],
   "source": [
    "#start, stop, number of items\n",
    "np.linspace(0,50, 10)"
   ]
  },
  {
   "cell_type": "markdown",
   "metadata": {},
   "source": [
    "Array attributes\n",
    "- shape\n",
    "- dtype\n",
    "- ndim\n",
    "- size\n",
    "\n",
    "basic operation\n",
    "- sum\n",
    "- mean\n",
    "- max\n",
    "- min\n",
    "- std \n",
    "- reshape\n",
    "- transpose\n",
    "- flatten"
   ]
  },
  {
   "cell_type": "code",
   "execution_count": 26,
   "metadata": {},
   "outputs": [
    {
     "data": {
      "text/plain": [
       "dtype('int64')"
      ]
     },
     "execution_count": 26,
     "metadata": {},
     "output_type": "execute_result"
    }
   ],
   "source": [
    "x.dtype"
   ]
  },
  {
   "cell_type": "code",
   "execution_count": 27,
   "metadata": {},
   "outputs": [
    {
     "data": {
      "text/plain": [
       "dtype('float64')"
      ]
     },
     "execution_count": 27,
     "metadata": {},
     "output_type": "execute_result"
    }
   ],
   "source": [
    "x= np.random.rand(3,3)\n",
    "x.dtype"
   ]
  },
  {
   "cell_type": "code",
   "execution_count": 28,
   "metadata": {},
   "outputs": [
    {
     "data": {
      "text/plain": [
       "2"
      ]
     },
     "execution_count": 28,
     "metadata": {},
     "output_type": "execute_result"
    }
   ],
   "source": [
    "x.ndim #no of deminsions"
   ]
  },
  {
   "cell_type": "code",
   "execution_count": 32,
   "metadata": {},
   "outputs": [
    {
     "data": {
      "text/plain": [
       "3"
      ]
     },
     "execution_count": 32,
     "metadata": {},
     "output_type": "execute_result"
    }
   ],
   "source": [
    "z=np.random.randint(1,5,(3,3,3))\n",
    "z.ndim\n",
    "#print(z)"
   ]
  },
  {
   "cell_type": "code",
   "execution_count": 33,
   "metadata": {},
   "outputs": [
    {
     "data": {
      "text/plain": [
       "np.int64(64)"
      ]
     },
     "execution_count": 33,
     "metadata": {},
     "output_type": "execute_result"
    }
   ],
   "source": [
    "z.sum()"
   ]
  },
  {
   "cell_type": "code",
   "execution_count": 43,
   "metadata": {},
   "outputs": [
    {
     "name": "stdout",
     "output_type": "stream",
     "text": [
      "3.7981505787292305\n",
      "[0.96768128 1.11715372 1.71331558]\n",
      "[2.52132976 1.27682082]\n",
      "0.6330250964548717\n",
      "0.12444868539483611\n",
      "0.9927050371370633\n",
      "0.3484549573692901\n",
      "0.12142085731523378\n"
     ]
    }
   ],
   "source": [
    "a= np.random.rand(2,3)\n",
    "print(a.sum())\n",
    "print(a.sum(axis=0)) # colume wise sum\n",
    "print(a.sum(axis=1))# row wise sum\n",
    "\n",
    "\n",
    "print(a.mean())\n",
    "print(a.min())\n",
    "print(a.max())\n",
    "print(a.std())\n",
    "print(a.var())\n",
    "# all  the methods can be used with axis \n"
   ]
  },
  {
   "cell_type": "code",
   "execution_count": 45,
   "metadata": {},
   "outputs": [
    {
     "name": "stdout",
     "output_type": "stream",
     "text": [
      "[[92 73 23 29 57]\n",
      " [38 21 92 12 21]\n",
      " [25 27 68 13 39]\n",
      " [72 28 64 88 86]\n",
      " [16 65 45 71 85]]\n",
      "transpose\n",
      "[[92 38 25 72 16]\n",
      " [73 21 27 28 65]\n",
      " [23 92 68 64 45]\n",
      " [29 12 13 88 71]\n",
      " [57 21 39 86 85]]\n",
      "flatten\n",
      "[92 73 23 29 57 38 21 92 12 21 25 27 68 13 39 72 28 64 88 86 16 65 45 71\n",
      " 85]\n"
     ]
    }
   ],
   "source": [
    "z=np.random.randint(11,99,(5,5))\n",
    "print(z)\n",
    "print(\"transpose\")\n",
    "print(z.transpose()) #(z,T)\n",
    "print('flatten')\n",
    "print(z.flatten())"
   ]
  },
  {
   "cell_type": "code",
   "execution_count": 47,
   "metadata": {},
   "outputs": [
    {
     "name": "stdout",
     "output_type": "stream",
     "text": [
      "[[5 8 7 4 5]\n",
      " [9 4 2 1 3]\n",
      " [4 6 8 7 2]\n",
      " [1 3 5 9 6]]\n",
      "[5 8 7 4 5 9 4 2 1 3 4 6 8 7 2 1 3 5 9 6]\n",
      "[[5 8 7 4]\n",
      " [5 9 4 2]\n",
      " [1 3 4 6]\n",
      " [8 7 2 1]\n",
      " [3 5 9 6]]\n",
      "[[5 8 7 4 5 9 4 2 1 3]\n",
      " [4 6 8 7 2 1 3 5 9 6]]\n",
      "[[5 8]\n",
      " [7 4]\n",
      " [5 9]\n",
      " [4 2]\n",
      " [1 3]\n",
      " [4 6]\n",
      " [8 7]\n",
      " [2 1]\n",
      " [3 5]\n",
      " [9 6]]\n"
     ]
    }
   ],
   "source": [
    "a=np.random.randint(1,10,(4,5))\n",
    "print(a)\n",
    "print(a.reshape(20))\n",
    "print(a.reshape(5,4))\n",
    "print(a.reshape(2,10))\n",
    "print(a.reshape(10,2))\n",
    "#print(a.reshape(5,2,2))"
   ]
  },
  {
   "cell_type": "code",
   "execution_count": 49,
   "metadata": {},
   "outputs": [
    {
     "name": "stdout",
     "output_type": "stream",
     "text": [
      "[[1 2]\n",
      " [8 9]]\n",
      "[[3 4]\n",
      " [6 7]]\n"
     ]
    }
   ],
   "source": [
    "m1=np.array([[1,2],[8,9]])\n",
    "m2=np.array([[3,4],[6,7]])\n",
    "print(m1)\n",
    "print(m2)"
   ]
  },
  {
   "cell_type": "code",
   "execution_count": null,
   "metadata": {},
   "outputs": [],
   "source": [
    "print(m1 + m2)\n",
    "print(m1 - m2)\n",
    "print(m1 / m2)# element wise division\n",
    "print(m1 * m2)# element wise multiplation\n",
    "print(m1 @ m2)# matrix multiplation\n",
    "print(m1.dot(m2))# matrix multiplation"
   ]
  },
  {
   "cell_type": "code",
   "execution_count": 50,
   "metadata": {},
   "outputs": [
    {
     "name": "stdout",
     "output_type": "stream",
     "text": [
      "[[-5 -2 -3 -6 -5]\n",
      " [-1 -6 -8 -9 -7]\n",
      " [-6 -4 -2 -3 -8]\n",
      " [-9 -7 -5 -1 -4]]\n",
      "[[50 80 70 40 50]\n",
      " [90 40 20 10 30]\n",
      " [40 60 80 70 20]\n",
      " [10 30 50 90 60]]\n",
      "[[0.5 0.8 0.7 0.4 0.5]\n",
      " [0.9 0.4 0.2 0.1 0.3]\n",
      " [0.4 0.6 0.8 0.7 0.2]\n",
      " [0.1 0.3 0.5 0.9 0.6]]\n",
      "[[15 18 17 14 15]\n",
      " [19 14 12 11 13]\n",
      " [14 16 18 17 12]\n",
      " [11 13 15 19 16]]\n"
     ]
    }
   ],
   "source": [
    "# when using  matrix and scalar\n",
    "print(a-10) #broadcasting\n",
    "print(a*10) #broadcasting\n",
    "print(a/10) \n",
    "print(a+10)"
   ]
  },
  {
   "cell_type": "code",
   "execution_count": 53,
   "metadata": {},
   "outputs": [
    {
     "data": {
      "text/plain": [
       "np.int32(5)"
      ]
     },
     "execution_count": 53,
     "metadata": {},
     "output_type": "execute_result"
    }
   ],
   "source": [
    "#indexing\n",
    "a[0]\n",
    "a[0,0]\n",
    "a[0][0]"
   ]
  },
  {
   "cell_type": "code",
   "execution_count": 54,
   "metadata": {},
   "outputs": [
    {
     "name": "stdout",
     "output_type": "stream",
     "text": [
      "[[9 1 9 9 6]\n",
      " [1 9 3 3 4]\n",
      " [9 2 1 4 8]\n",
      " [7 5 7 5 3]\n",
      " [3 4 1 3 8]]\n"
     ]
    }
   ],
   "source": [
    "#slicing\n",
    "x=np.random.randint(1,10,(5,5))\n",
    "print(x)"
   ]
  },
  {
   "cell_type": "code",
   "execution_count": 61,
   "metadata": {},
   "outputs": [
    {
     "data": {
      "text/plain": [
       "array([[9, 1, 9],\n",
       "       [1, 9, 3],\n",
       "       [9, 2, 1],\n",
       "       [7, 5, 7],\n",
       "       [3, 4, 1]], dtype=int32)"
      ]
     },
     "execution_count": 61,
     "metadata": {},
     "output_type": "execute_result"
    }
   ],
   "source": [
    "print(x[:,0]) #first\n",
    "print(x[:,1]) #last\n",
    "print(x[:,:3]) # first 3 colume"
   ]
  },
  {
   "cell_type": "code",
   "execution_count": 60,
   "metadata": {},
   "outputs": [
    {
     "data": {
      "text/plain": [
       "array([[9, 3, 3],\n",
       "       [2, 1, 4],\n",
       "       [5, 7, 5]], dtype=int32)"
      ]
     },
     "execution_count": 60,
     "metadata": {},
     "output_type": "execute_result"
    }
   ],
   "source": [
    "x[1:4,1:4]\n",
    "x[1:-1,1:-1]"
   ]
  },
  {
   "cell_type": "code",
   "execution_count": null,
   "metadata": {},
   "outputs": [],
   "source": []
  }
 ],
 "metadata": {
  "kernelspec": {
   "display_name": "base",
   "language": "python",
   "name": "python3"
  },
  "language_info": {
   "codemirror_mode": {
    "name": "ipython",
    "version": 3
   },
   "file_extension": ".py",
   "mimetype": "text/x-python",
   "name": "python",
   "nbconvert_exporter": "python",
   "pygments_lexer": "ipython3",
   "version": "3.12.3"
  }
 },
 "nbformat": 4,
 "nbformat_minor": 2
}
