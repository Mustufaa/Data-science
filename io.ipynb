{
 "cells": [
  {
   "cell_type": "code",
   "execution_count": 1,
   "metadata": {},
   "outputs": [
    {
     "data": {
      "text/plain": [
       "'hello'"
      ]
     },
     "execution_count": 1,
     "metadata": {},
     "output_type": "execute_result"
    }
   ],
   "source": [
    "input()"
   ]
  },
  {
   "cell_type": "code",
   "execution_count": 3,
   "metadata": {},
   "outputs": [],
   "source": [
    "name = input(\"Enter your name:\")\n",
    "city = input(\"Enter your city name:\")\n",
    "Age = input(\"enter your age:\")\n",
    "color = input(\"enter your fav color:\")\n",
    "fruit = input(\"enter your fav fruit:\")\n",
    "luckynum= input('enter your lucky number')\n"
   ]
  },
  {
   "cell_type": "markdown",
   "metadata": {},
   "source": [
    "# Typecasting \n",
    "from one datatype =>  another\n",
    "str => int(variable) => int"
   ]
  },
  {
   "cell_type": "code",
   "execution_count": 4,
   "metadata": {},
   "outputs": [
    {
     "data": {
      "text/plain": [
       "20"
      ]
     },
     "execution_count": 4,
     "metadata": {},
     "output_type": "execute_result"
    }
   ],
   "source": [
    "int(\"20\")"
   ]
  },
  {
   "cell_type": "code",
   "execution_count": 6,
   "metadata": {},
   "outputs": [
    {
     "name": "stdout",
     "output_type": "stream",
     "text": [
      "<class 'int'>\n",
      "<class 'str'>\n",
      "<class 'str'>\n",
      "<class 'float'>\n"
     ]
    }
   ],
   "source": [
    "a=10\n",
    "b=\"10\"\n",
    "c=\"10.10\"\n",
    "d=20.22\n",
    "print(type(a))\n",
    "print(type(b))\n",
    "print(type(c))\n",
    "print(type(d))"
   ]
  },
  {
   "cell_type": "code",
   "execution_count": 7,
   "metadata": {},
   "outputs": [
    {
     "name": "stdout",
     "output_type": "stream",
     "text": [
      "10.0\n",
      "10\n",
      "True\n"
     ]
    }
   ],
   "source": [
    "print(float(a))\n",
    "print(str(a))\n",
    "print(bool(a))"
   ]
  },
  {
   "cell_type": "code",
   "execution_count": 8,
   "metadata": {},
   "outputs": [
    {
     "name": "stdout",
     "output_type": "stream",
     "text": [
      "30\n"
     ]
    }
   ],
   "source": [
    "a= input(\"Enter a num\")\n",
    "b= input(\"Enter a num\")\n",
    "c= int(a)+int(b)\n",
    "print(c)"
   ]
  },
  {
   "cell_type": "code",
   "execution_count": 9,
   "metadata": {},
   "outputs": [
    {
     "name": "stdout",
     "output_type": "stream",
     "text": [
      "50\n"
     ]
    }
   ],
   "source": [
    "a= int(input(\"Enter a num\"))\n",
    "b= int(input(\"Enter a num\"))\n",
    "c= a + b\n",
    "print(c)"
   ]
  },
  {
   "cell_type": "code",
   "execution_count": 16,
   "metadata": {},
   "outputs": [
    {
     "name": "stdout",
     "output_type": "stream",
     "text": [
      "2600.0\n"
     ]
    }
   ],
   "source": [
    "p=int(input(\"Enter the principle\"))\n",
    "r=float(input(\"Enter the Rate\"))\n",
    "t=int(input(\"Enter the Time\"))\n",
    "si=p*r*t/100\n",
    "print(si)"
   ]
  },
  {
   "cell_type": "code",
   "execution_count": 14,
   "metadata": {},
   "outputs": [
    {
     "name": "stdout",
     "output_type": "stream",
     "text": [
      "answer: 12 - 3 = 9\n"
     ]
    }
   ],
   "source": [
    "a= 12\n",
    "b= 3\n",
    "c = a - b\n",
    "print(\"answer:\", a, \"-\", b, \"=\", c)"
   ]
  },
  {
   "cell_type": "code",
   "execution_count": 20,
   "metadata": {},
   "outputs": [
    {
     "name": "stdout",
     "output_type": "stream",
     "text": [
      "SIMPLE INTEREST CALCULATOR\n",
      "Principle= 10000 rs\n",
      "Rate= 5.2 %\n",
      "Time= 3 yrs\n",
      "_______________\n",
      "Simple Interest= 1560.0\n"
     ]
    }
   ],
   "source": [
    "p=int(input(\"Enter the principle\"))\n",
    "r=float(input(\"Enter the Rate\"))\n",
    "t=int(input(\"Enter the Time\"))\n",
    "si=p*r*t/100\n",
    "\n",
    "print(\"SIMPLE INTEREST CALCULATOR\")\n",
    "print(\"Principle=\", p, \"rs\")\n",
    "print(\"Rate=\", r,\"%\")\n",
    "print(\"Time=\", t, \"yrs\")\n",
    "print(\"_\"* 15)\n",
    "print(\"Simple Interest=\", si)"
   ]
  },
  {
   "cell_type": "markdown",
   "metadata": {},
   "source": [
    "String interpolation for formatted output"
   ]
  },
  {
   "cell_type": "markdown",
   "metadata": {},
   "source": []
  },
  {
   "cell_type": "code",
   "execution_count": 23,
   "metadata": {},
   "outputs": [
    {
     "name": "stdout",
     "output_type": "stream",
     "text": [
      "answer: 12 - 3 = 9\n",
      "answer: 12 - 3 = 9\n"
     ]
    }
   ],
   "source": [
    "a= 12\n",
    "b= 3\n",
    "c = a - b\n",
    "print(\"answer:\", a, \"-\", b, \"=\", c)\n",
    "print(f\"answer: {a} - {b} = {c}\")"
   ]
  },
  {
   "cell_type": "code",
   "execution_count": 24,
   "metadata": {},
   "outputs": [
    {
     "name": "stdout",
     "output_type": "stream",
     "text": [
      "Area of Tringle\n",
      "Base = 10 cm\n",
      "Height = 12 cm\n",
      "_______________\n",
      "Area = 60.0 cm\n"
     ]
    }
   ],
   "source": [
    "# area of triangle\n",
    "b=int(input(\"enter the  base of tringle\"))\n",
    "h=int(input(\"enter the  height of tringle\"))\n",
    "area = 1/2*b*h\n",
    "print(\"Area of Tringle\")\n",
    "print(f'Base = {b} cm')\n",
    "print(f'Height = {h} cm')\n",
    "print('_'*15)\n",
    "print(f'Area = {area} cm')"
   ]
  },
  {
   "cell_type": "code",
   "execution_count": null,
   "metadata": {},
   "outputs": [],
   "source": []
  }
 ],
 "metadata": {
  "kernelspec": {
   "display_name": "base",
   "language": "python",
   "name": "python3"
  },
  "language_info": {
   "codemirror_mode": {
    "name": "ipython",
    "version": 3
   },
   "file_extension": ".py",
   "mimetype": "text/x-python",
   "name": "python",
   "nbconvert_exporter": "python",
   "pygments_lexer": "ipython3",
   "version": "3.12.3"
  }
 },
 "nbformat": 4,
 "nbformat_minor": 2
}
